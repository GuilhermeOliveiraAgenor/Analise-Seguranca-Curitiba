{
  "nbformat": 4,
  "nbformat_minor": 0,
  "metadata": {
    "colab": {
      "provenance": [],
      "include_colab_link": true
    },
    "kernelspec": {
      "name": "python3",
      "display_name": "Python 3"
    },
    "language_info": {
      "name": "python"
    }
  },
  "cells": [
    {
      "cell_type": "markdown",
      "metadata": {
        "id": "view-in-github",
        "colab_type": "text"
      },
      "source": [
        "<a href=\"https://colab.research.google.com/github/GuilhermeOliveiraAgenor/Analise-Seguranca-Curitiba/blob/feature%2Fguilherme/guilherme/analise_seguran%C3%A7a_guilherme.ipynb\" target=\"_parent\"><img src=\"https://colab.research.google.com/assets/colab-badge.svg\" alt=\"Open In Colab\"/></a>"
      ]
    },
    {
      "cell_type": "code",
      "source": [
        "from google.colab import files\n",
        "import pandas as pd\n",
        "\n",
        "# Faz upload do arquivo do seu PC\n",
        "uploaded = files.upload()\n",
        "\n",
        "# Pega o nome do arquivo enviado\n",
        "file_path = list(uploaded.keys())[0]\n"
      ],
      "metadata": {
        "id": "LotOrqPPEYLV",
        "colab": {
          "base_uri": "https://localhost:8080/",
          "height": 73
        },
        "outputId": "bd754e27-0985-4073-d779-48f3b116d69d"
      },
      "execution_count": 5,
      "outputs": [
        {
          "output_type": "display_data",
          "data": {
            "text/plain": [
              "<IPython.core.display.HTML object>"
            ],
            "text/html": [
              "\n",
              "     <input type=\"file\" id=\"files-5365eb08-19d3-4df8-94fc-9f272d1d35c2\" name=\"files[]\" multiple disabled\n",
              "        style=\"border:none\" />\n",
              "     <output id=\"result-5365eb08-19d3-4df8-94fc-9f272d1d35c2\">\n",
              "      Upload widget is only available when the cell has been executed in the\n",
              "      current browser session. Please rerun this cell to enable.\n",
              "      </output>\n",
              "      <script>// Copyright 2017 Google LLC\n",
              "//\n",
              "// Licensed under the Apache License, Version 2.0 (the \"License\");\n",
              "// you may not use this file except in compliance with the License.\n",
              "// You may obtain a copy of the License at\n",
              "//\n",
              "//      http://www.apache.org/licenses/LICENSE-2.0\n",
              "//\n",
              "// Unless required by applicable law or agreed to in writing, software\n",
              "// distributed under the License is distributed on an \"AS IS\" BASIS,\n",
              "// WITHOUT WARRANTIES OR CONDITIONS OF ANY KIND, either express or implied.\n",
              "// See the License for the specific language governing permissions and\n",
              "// limitations under the License.\n",
              "\n",
              "/**\n",
              " * @fileoverview Helpers for google.colab Python module.\n",
              " */\n",
              "(function(scope) {\n",
              "function span(text, styleAttributes = {}) {\n",
              "  const element = document.createElement('span');\n",
              "  element.textContent = text;\n",
              "  for (const key of Object.keys(styleAttributes)) {\n",
              "    element.style[key] = styleAttributes[key];\n",
              "  }\n",
              "  return element;\n",
              "}\n",
              "\n",
              "// Max number of bytes which will be uploaded at a time.\n",
              "const MAX_PAYLOAD_SIZE = 100 * 1024;\n",
              "\n",
              "function _uploadFiles(inputId, outputId) {\n",
              "  const steps = uploadFilesStep(inputId, outputId);\n",
              "  const outputElement = document.getElementById(outputId);\n",
              "  // Cache steps on the outputElement to make it available for the next call\n",
              "  // to uploadFilesContinue from Python.\n",
              "  outputElement.steps = steps;\n",
              "\n",
              "  return _uploadFilesContinue(outputId);\n",
              "}\n",
              "\n",
              "// This is roughly an async generator (not supported in the browser yet),\n",
              "// where there are multiple asynchronous steps and the Python side is going\n",
              "// to poll for completion of each step.\n",
              "// This uses a Promise to block the python side on completion of each step,\n",
              "// then passes the result of the previous step as the input to the next step.\n",
              "function _uploadFilesContinue(outputId) {\n",
              "  const outputElement = document.getElementById(outputId);\n",
              "  const steps = outputElement.steps;\n",
              "\n",
              "  const next = steps.next(outputElement.lastPromiseValue);\n",
              "  return Promise.resolve(next.value.promise).then((value) => {\n",
              "    // Cache the last promise value to make it available to the next\n",
              "    // step of the generator.\n",
              "    outputElement.lastPromiseValue = value;\n",
              "    return next.value.response;\n",
              "  });\n",
              "}\n",
              "\n",
              "/**\n",
              " * Generator function which is called between each async step of the upload\n",
              " * process.\n",
              " * @param {string} inputId Element ID of the input file picker element.\n",
              " * @param {string} outputId Element ID of the output display.\n",
              " * @return {!Iterable<!Object>} Iterable of next steps.\n",
              " */\n",
              "function* uploadFilesStep(inputId, outputId) {\n",
              "  const inputElement = document.getElementById(inputId);\n",
              "  inputElement.disabled = false;\n",
              "\n",
              "  const outputElement = document.getElementById(outputId);\n",
              "  outputElement.innerHTML = '';\n",
              "\n",
              "  const pickedPromise = new Promise((resolve) => {\n",
              "    inputElement.addEventListener('change', (e) => {\n",
              "      resolve(e.target.files);\n",
              "    });\n",
              "  });\n",
              "\n",
              "  const cancel = document.createElement('button');\n",
              "  inputElement.parentElement.appendChild(cancel);\n",
              "  cancel.textContent = 'Cancel upload';\n",
              "  const cancelPromise = new Promise((resolve) => {\n",
              "    cancel.onclick = () => {\n",
              "      resolve(null);\n",
              "    };\n",
              "  });\n",
              "\n",
              "  // Wait for the user to pick the files.\n",
              "  const files = yield {\n",
              "    promise: Promise.race([pickedPromise, cancelPromise]),\n",
              "    response: {\n",
              "      action: 'starting',\n",
              "    }\n",
              "  };\n",
              "\n",
              "  cancel.remove();\n",
              "\n",
              "  // Disable the input element since further picks are not allowed.\n",
              "  inputElement.disabled = true;\n",
              "\n",
              "  if (!files) {\n",
              "    return {\n",
              "      response: {\n",
              "        action: 'complete',\n",
              "      }\n",
              "    };\n",
              "  }\n",
              "\n",
              "  for (const file of files) {\n",
              "    const li = document.createElement('li');\n",
              "    li.append(span(file.name, {fontWeight: 'bold'}));\n",
              "    li.append(span(\n",
              "        `(${file.type || 'n/a'}) - ${file.size} bytes, ` +\n",
              "        `last modified: ${\n",
              "            file.lastModifiedDate ? file.lastModifiedDate.toLocaleDateString() :\n",
              "                                    'n/a'} - `));\n",
              "    const percent = span('0% done');\n",
              "    li.appendChild(percent);\n",
              "\n",
              "    outputElement.appendChild(li);\n",
              "\n",
              "    const fileDataPromise = new Promise((resolve) => {\n",
              "      const reader = new FileReader();\n",
              "      reader.onload = (e) => {\n",
              "        resolve(e.target.result);\n",
              "      };\n",
              "      reader.readAsArrayBuffer(file);\n",
              "    });\n",
              "    // Wait for the data to be ready.\n",
              "    let fileData = yield {\n",
              "      promise: fileDataPromise,\n",
              "      response: {\n",
              "        action: 'continue',\n",
              "      }\n",
              "    };\n",
              "\n",
              "    // Use a chunked sending to avoid message size limits. See b/62115660.\n",
              "    let position = 0;\n",
              "    do {\n",
              "      const length = Math.min(fileData.byteLength - position, MAX_PAYLOAD_SIZE);\n",
              "      const chunk = new Uint8Array(fileData, position, length);\n",
              "      position += length;\n",
              "\n",
              "      const base64 = btoa(String.fromCharCode.apply(null, chunk));\n",
              "      yield {\n",
              "        response: {\n",
              "          action: 'append',\n",
              "          file: file.name,\n",
              "          data: base64,\n",
              "        },\n",
              "      };\n",
              "\n",
              "      let percentDone = fileData.byteLength === 0 ?\n",
              "          100 :\n",
              "          Math.round((position / fileData.byteLength) * 100);\n",
              "      percent.textContent = `${percentDone}% done`;\n",
              "\n",
              "    } while (position < fileData.byteLength);\n",
              "  }\n",
              "\n",
              "  // All done.\n",
              "  yield {\n",
              "    response: {\n",
              "      action: 'complete',\n",
              "    }\n",
              "  };\n",
              "}\n",
              "\n",
              "scope.google = scope.google || {};\n",
              "scope.google.colab = scope.google.colab || {};\n",
              "scope.google.colab._files = {\n",
              "  _uploadFiles,\n",
              "  _uploadFilesContinue,\n",
              "};\n",
              "})(self);\n",
              "</script> "
            ]
          },
          "metadata": {}
        },
        {
          "output_type": "stream",
          "name": "stdout",
          "text": [
            "Saving Dados_2024-2025 v2.xlsx to Dados_2024-2025 v2.xlsx\n"
          ]
        }
      ]
    },
    {
      "cell_type": "code",
      "source": [
        "#Lista planilhas do arquivo\n",
        "xls = pd.ExcelFile(file_path)\n",
        "print(\"Planilhas do arquivo:\")\n",
        "for sheet_name in xls.sheet_names:\n",
        "    print(sheet_name)"
      ],
      "metadata": {
        "colab": {
          "base_uri": "https://localhost:8080/"
        },
        "id": "oZHLN7QmFoXs",
        "outputId": "014f34f9-048f-476a-a3e7-781ee851cdc1"
      },
      "execution_count": 6,
      "outputs": [
        {
          "output_type": "stream",
          "name": "stdout",
          "text": [
            "Planilhas do arquivo:\n",
            "CTBA_2024\n",
            "CTBA_2025\n",
            "RM_2024\n",
            "1_SEM_2024_RM\n",
            "1_SEM_2025_RM\n",
            "2_SEM_2024_RM\n",
            "RM_2025\n",
            "GERAL_2024\n",
            "GERAL_2025\n"
          ]
        }
      ]
    },
    {
      "cell_type": "code",
      "source": [
        "#selecionar planilha\n",
        "base_2024 = ['CTBA_2024']\n",
        "base_2025 = ['CTBA_2025']"
      ],
      "metadata": {
        "id": "ckKlnF98Jd7J"
      },
      "execution_count": 7,
      "outputs": []
    },
    {
      "cell_type": "code",
      "source": [
        "# filtros por semestre\n",
        "semestre1_inicio, semestre1_fim = 1,6\n",
        "semestre2_inicio, semestre2_fim = 7,12\n"
      ],
      "metadata": {
        "id": "ut1wkEMMPPB5"
      },
      "execution_count": 3,
      "outputs": []
    },
    {
      "cell_type": "code",
      "source": [
        "# Ler apenas as planilhas selecionadas\n",
        "dt = pd.read_excel(file_path, sheet_name=base_2024)"
      ],
      "metadata": {
        "id": "a1QgpcaAIVKa"
      },
      "execution_count": 8,
      "outputs": []
    },
    {
      "cell_type": "code",
      "source": [
        "# Lista de crimes perigosos\n",
        "crimes_perigosos = [\n",
        "    'FURTO SIMPLES',\n",
        "    'FURTO QUALIFICADO',\n",
        "    'ROUBO',\n",
        "    'DROGAS PARA O CONSUMO PESSOAL',\n",
        "    'DANO',\n",
        "    'ROUBO AGRAVADO',\n",
        "    'VIOLACAO DE DOMICILIO',\n",
        "    'FURTO DE COISA COMUM',\n",
        "    'PORTE ILEGAL DE ARMA DE FOGO, ACESSORIO OU MUNICAO - USO PERMITIDO',\n",
        "    'EXTORSAO MEDIANTE SEQUESTRO',\n",
        "    'ROUBO COM RESULTADO DE LESAO CORPORAL GRAVE',\n",
        "    'COMERCIO ILEGAL DE ARMA DE FOGO'\n",
        "]\n",
        "\n",
        "df_crimes_perigosos = dt['CTBA_2024'][dt['CTBA_2024']['Natureza'].isin(crimes_perigosos)]\n",
        "\n"
      ],
      "metadata": {
        "id": "sQYLbe67kSZx"
      },
      "execution_count": 9,
      "outputs": []
    },
    {
      "cell_type": "code",
      "source": [
        "# Lista de tipos de furtos\n",
        "\n",
        "furtos = [\n",
        "    'FURTO SIMPLES', 'FURTO QUALIFICADO', 'FURTO DE COISA COMUM',\n",
        "]"
      ],
      "metadata": {
        "id": "bhnI8MeK-bTq"
      },
      "execution_count": 10,
      "outputs": []
    },
    {
      "cell_type": "code",
      "source": [
        "# Lista de tipos de roubos\n",
        "\n",
        "roubos = [\n",
        "    'ROUBO', 'ROUBO AGRAVADO','ROUBO COM RESULTADO DE LESAO CORPORAL GRAVE'\n",
        "]"
      ],
      "metadata": {
        "id": "VABhkkWfWzdm"
      },
      "execution_count": 11,
      "outputs": []
    },
    {
      "cell_type": "code",
      "source": [
        "furtos_roubos = [\n",
        "    'FURTO SIMPLES', 'FURTO QUALIFICADO', 'FURTO DE COISA COMUM','ROUBO', 'ROUBO AGRAVADO','ROUBO COM RESULTADO DE LESAO CORPORAL GRAVE'\n",
        "]"
      ],
      "metadata": {
        "id": "7sGWTaBSXekl"
      },
      "execution_count": 12,
      "outputs": []
    },
    {
      "cell_type": "code",
      "source": [
        "crimes_violentos = [\n",
        "    'ROUBO','ROUBO AGRAVADO','EXTORSAO MEDIANTE SEQUESTRO','ROUBO COM RESULTADO DE LESAO CORPORAL GRAVE'\n",
        "]"
      ],
      "metadata": {
        "id": "ir5dTHib9BBT"
      },
      "execution_count": 13,
      "outputs": []
    },
    {
      "cell_type": "code",
      "source": [
        "# Listar ranking de ocorrências em 2024\n",
        "ranking_geral_2024 = dt['CTBA_2024']['Natureza'].value_counts()\n",
        "print(ranking_geral_2024)\n",
        "print(\"\\nTotal de ocorrências: \",ranking_geral_2024.sum())"
      ],
      "metadata": {
        "colab": {
          "base_uri": "https://localhost:8080/"
        },
        "id": "Pdd6cBY3T-1f",
        "outputId": "bc3ea0c5-9e41-43ed-b499-181ac6d67e7c"
      },
      "execution_count": 14,
      "outputs": [
        {
          "output_type": "stream",
          "name": "stdout",
          "text": [
            "Natureza\n",
            "FURTO SIMPLES                                                         36823\n",
            "FURTO QUALIFICADO                                                     10651\n",
            "PERTURBACAO DO TRABALHO OU SOSSEGO ALHEIO                             10406\n",
            "ROUBO                                                                  5365\n",
            "DROGAS PARA O CONSUMO PESSOAL                                          5080\n",
            "DANO                                                                   3805\n",
            "ROUBO AGRAVADO                                                         2253\n",
            "VIOLACAO DE DOMICILIO                                                  1575\n",
            "FURTO DE COISA COMUM                                                    683\n",
            "PORTE ILEGAL DE ARMA DE FOGO, ACESSORIO OU MUNICAO - USO PERMITIDO      152\n",
            "EXTORSAO MEDIANTE SEQUESTRO                                              34\n",
            "ROUBO COM RESULTADO DE LESAO CORPORAL GRAVE                              31\n",
            "COMERCIO ILEGAL DE ARMA DE FOGO                                           5\n",
            "Name: count, dtype: int64\n",
            "\n",
            "Total de ocorrências:  76863\n"
          ]
        }
      ]
    },
    {
      "cell_type": "code",
      "source": [
        "# Quantidade de crimes por bairro\n",
        "\n",
        "quantidade_crimes_bairros = dt['CTBA_2024']['Bairro'].value_counts().reset_index(name='Crimes')\n",
        "print(quantidade_crimes_bairros.head(10))"
      ],
      "metadata": {
        "colab": {
          "base_uri": "https://localhost:8080/"
        },
        "id": "3RIrzjMTsv-C",
        "outputId": "b192c060-faf1-484a-d13d-dc7efe12256d"
      },
      "execution_count": null,
      "outputs": [
        {
          "output_type": "stream",
          "name": "stdout",
          "text": [
            "                          Bairro  Crimes\n",
            "0                         CENTRO   10732\n",
            "1  CIDADE INDUSTRIAL DE CURITIBA    5117\n",
            "2                  SITIO CERCADO    3699\n",
            "3                     AGUA VERDE    3153\n",
            "4                      BOQUEIRAO    2691\n",
            "5                      TATUQUARA    2683\n",
            "6                       REBOUCAS    2383\n",
            "7                    PINHEIRINHO    2203\n",
            "8                         PORTAO    2202\n",
            "9                         CAJURU    2069\n"
          ]
        }
      ]
    },
    {
      "cell_type": "code",
      "source": [
        "# Listar principal crime por bairro\n",
        "\n",
        "df = dt['CTBA_2024'][['Bairro', 'Natureza']]\n",
        "\n",
        "#                                    conta os campos\n",
        "contagem = df.value_counts(subset=['Bairro', 'Natureza']).reset_index(name='Contagem')\n",
        "\n",
        "#                                                       seleciona ultimo id\n",
        "principal_crime_bairro = contagem.loc[contagem.groupby('Bairro')['Contagem'].idxmax()].reset_index(drop=True)\n",
        "\n",
        "# Limita a coluna Natureza a 15 caracteres\n",
        "principal_crime_bairro['Natureza'] = principal_crime_bairro['Natureza'].str.slice(0, 15)\n",
        "\n",
        "# Ordena pelo número de ocorrências (decrescente) e pega os 3 primeiros\n",
        "ranking = principal_crime_bairro.sort_values(by='Contagem', ascending=False).head(50)\n",
        "\n",
        "print(ranking)\n"
      ],
      "metadata": {
        "colab": {
          "base_uri": "https://localhost:8080/"
        },
        "id": "_wP7gPVsfl9b",
        "outputId": "56aca4a4-2233-4a72-91b9-93270b761c42"
      },
      "execution_count": null,
      "outputs": [
        {
          "output_type": "stream",
          "name": "stdout",
          "text": [
            "                           Bairro         Natureza  Contagem\n",
            "28                         CENTRO    FURTO SIMPLES      5863\n",
            "2                      AGUA VERDE    FURTO SIMPLES      1953\n",
            "55                       REBOUCAS    FURTO SIMPLES      1499\n",
            "16                      BOQUEIRAO    FURTO SIMPLES      1367\n",
            "31  CIDADE INDUSTRIAL DE CURITIBA    FURTO SIMPLES      1366\n",
            "53                         PORTAO    FURTO SIMPLES      1220\n",
            "67                  SITIO CERCADO  PERTURBACAO DO       1195\n",
            "12                          BATEL    FURTO SIMPLES      1142\n",
            "52                    PINHEIRINHO    FURTO SIMPLES       978\n",
            "20                         CAJURU    FURTO SIMPLES       904\n",
            "70                      TATUQUARA  PERTURBACAO DO        900\n",
            "72                        UBERABA    FURTO SIMPLES       874\n",
            "40                JARDIM BOTANICO    FURTO SIMPLES       735\n",
            "38                          HAUER    FURTO SIMPLES       724\n",
            "25                     CAPAO RASO    FURTO SIMPLES       668\n",
            "76                          XAXIM    FURTO SIMPLES       638\n",
            "48                     NOVO MUNDO    FURTO SIMPLES       636\n",
            "13                     BIGORRILHO    FURTO SIMPLES       618\n",
            "32                     CRISTO REI    FURTO SIMPLES       588\n",
            "62                  SAO FRANCISCO    FURTO SIMPLES       575\n",
            "6                      ALTO DA XV    FURTO SIMPLES       573\n",
            "41            JARDIM DAS AMERICAS    FURTO SIMPLES       550\n",
            "46                         MERCES    FURTO SIMPLES       471\n",
            "29                  CENTRO CIVICO    FURTO SIMPLES       463\n",
            "23               CAMPO DE SANTANA  PERTURBACAO DO        456\n",
            "9                       BACACHERI    FURTO SIMPLES       404\n",
            "34                     FAZENDINHA    FURTO SIMPLES       395\n",
            "58               SANTA FELICIDADE    FURTO SIMPLES       390\n",
            "5                  ALTO DA GLORIA    FURTO SIMPLES       388\n",
            "4                  ALTO BOQUEIRAO    FURTO SIMPLES       383\n",
            "18                         CABRAL    FURTO SIMPLES       376\n",
            "37                         GUAIRA    FURTO SIMPLES       372\n",
            "69                         TARUMA    FURTO SIMPLES       363\n",
            "14                      BOA VISTA    FURTO SIMPLES       363\n",
            "22                 CAMPO COMPRIDO    FURTO SIMPLES       362\n",
            "50                        PAROLIN    FURTO SIMPLES       361\n",
            "43                         JUVEVE    FURTO SIMPLES       339\n",
            "57                  SANTA CANDIDA    FURTO SIMPLES       335\n",
            "10                    BAIRRO ALTO    FURTO SIMPLES       331\n",
            "54                    PRADO VELHO    FURTO SIMPLES       329\n",
            "36                    GUABIROTUBA    FURTO SIMPLES       304\n",
            "47                      MOSSUNGUE    FURTO SIMPLES       292\n",
            "1                       ABRANCHES    FURTO SIMPLES       272\n",
            "51                     PILARZINHO    FURTO SIMPLES       271\n",
            "24                CAPAO DA IMBUIA    FURTO SIMPLES       270\n",
            "3                             AHU    FURTO SIMPLES       241\n",
            "61                       SAO BRAZ    FURTO SIMPLES       239\n",
            "74                    VILA IZABEL    FURTO SIMPLES       239\n",
            "39                     HUGO LANGE    FURTO SIMPLES       230\n",
            "21            CAMPINA DO SIQUEIRA    FURTO SIMPLES       228\n"
          ]
        }
      ]
    },
    {
      "cell_type": "code",
      "source": [
        "# Bairros com mais perturbacao do sossego\n",
        "\n",
        "crime = 'PERTURBACAO DO TRABALHO OU SOSSEGO ALHEIO'\n",
        "\n",
        "df_sequestro = df_crimes_perigosos[df_crimes_perigosos['Natureza'] == crime]\n",
        "\n",
        "df = dt['CTBA_2024'][['Bairro', 'Natureza']]\n",
        "\n",
        "#                                    #conta os campos\n",
        "contagem = df.value_counts(subset=['Bairro', 'Natureza']).reset_index(name='Contagem')\n",
        "\n",
        "#                                                        #seleciona ultimo id\n",
        "principal_crime_bairro = contagem.loc[contagem.groupby('Bairro')['Contagem'].idxmax()].reset_index(drop=True)\n",
        "\n",
        "# filtro das ocorrencias especificas do ultimo id selecionado\n",
        "filtro = principal_crime_bairro[principal_crime_bairro['Natureza'] == crime]\n",
        "\n",
        "# Limita a coluna Natureza a 15 caracteres\n",
        "filtro['Natureza'] = filtro['Natureza'].str.slice(0, 15)\n",
        "\n",
        "# Ordenar por ordem descrecente\n",
        "ranking = filtro.sort_values(by='Contagem', ascending=False)\n",
        "\n",
        "print(ranking)\n"
      ],
      "metadata": {
        "colab": {
          "base_uri": "https://localhost:8080/"
        },
        "id": "iSL1PXL1hlcQ",
        "outputId": "4a25ef4c-a87a-40b3-e728-72cafe499fb0"
      },
      "execution_count": null,
      "outputs": [
        {
          "output_type": "stream",
          "name": "stdout",
          "text": [
            "              Bairro         Natureza  Contagem\n",
            "67     SITIO CERCADO  PERTURBACAO DO       1195\n",
            "70         TATUQUARA  PERTURBACAO DO        900\n",
            "23  CAMPO DE SANTANA  PERTURBACAO DO        456\n",
            "35         GANCHINHO  PERTURBACAO DO        220\n",
            "27           CAXIMBA  PERTURBACAO DO         52\n",
            "8            AUGUSTA  PERTURBACAO DO         33\n",
            "65        SAO MIGUEL  PERTURBACAO DO         17\n"
          ]
        },
        {
          "output_type": "stream",
          "name": "stderr",
          "text": [
            "/tmp/ipython-input-1333758972.py:19: SettingWithCopyWarning: \n",
            "A value is trying to be set on a copy of a slice from a DataFrame.\n",
            "Try using .loc[row_indexer,col_indexer] = value instead\n",
            "\n",
            "See the caveats in the documentation: https://pandas.pydata.org/pandas-docs/stable/user_guide/indexing.html#returning-a-view-versus-a-copy\n",
            "  filtro['Natureza'] = filtro['Natureza'].str.slice(0, 15)\n"
          ]
        }
      ]
    },
    {
      "cell_type": "code",
      "source": [
        "# Ranking 10 bairros com mais ocorrências\n",
        "\n",
        "ranking_top10 = dt['CTBA_2024']['Bairro'].value_counts().reset_index(name='crimes')\n",
        "print(ranking_top10.head(10))\n"
      ],
      "metadata": {
        "colab": {
          "base_uri": "https://localhost:8080/"
        },
        "id": "06EER4PVrjwW",
        "outputId": "d344b467-ccb4-4430-dbbf-e5c9a12c51d2"
      },
      "execution_count": null,
      "outputs": [
        {
          "output_type": "stream",
          "name": "stdout",
          "text": [
            "                          Bairro  crimes\n",
            "0                         CENTRO   10732\n",
            "1  CIDADE INDUSTRIAL DE CURITIBA    5117\n",
            "2                  SITIO CERCADO    3699\n",
            "3                     AGUA VERDE    3153\n",
            "4                      BOQUEIRAO    2691\n",
            "5                      TATUQUARA    2683\n",
            "6                       REBOUCAS    2383\n",
            "7                    PINHEIRINHO    2203\n",
            "8                         PORTAO    2202\n",
            "9                         CAJURU    2069\n"
          ]
        }
      ]
    },
    {
      "cell_type": "code",
      "source": [
        "# Ranking 10 bairros mais ocorrencias de crimes perigosos\n",
        "\n",
        "#Foi retirado o crime de perturbação de sossego\n",
        "\n",
        "df_bairros_perigosos = df_crimes_perigosos['Bairro'].value_counts().reset_index(name='crimes')\n",
        "df_bairros_perigosos.columns = ['Bairro', 'Crimes']\n",
        "\n",
        "# Exibe os 10 primeiros bairros\n",
        "print(df_bairros_perigosos.head(10))\n"
      ],
      "metadata": {
        "colab": {
          "base_uri": "https://localhost:8080/"
        },
        "id": "isMc5wOIUZoY",
        "outputId": "4efc2f7c-f747-4604-b9f8-463439663e54"
      },
      "execution_count": null,
      "outputs": [
        {
          "output_type": "stream",
          "name": "stdout",
          "text": [
            "                          Bairro  Crimes\n",
            "0                         CENTRO   10366\n",
            "1  CIDADE INDUSTRIAL DE CURITIBA    3793\n",
            "2                     AGUA VERDE    3013\n",
            "3                  SITIO CERCADO    2504\n",
            "4                      BOQUEIRAO    2460\n",
            "5                       REBOUCAS    2299\n",
            "6                         PORTAO    2000\n",
            "7                         CAJURU    1785\n",
            "8                      TATUQUARA    1783\n",
            "9                    PINHEIRINHO    1733\n"
          ]
        }
      ]
    },
    {
      "cell_type": "code",
      "source": [
        "# Crimes por bairro - listar bairros centro, cic, agua verde, sitio cercado, boqueirao, reboucas, portao, cajuru, tatuquara, pinheirinho\n",
        "\n",
        "bairro = 'AGUA VERDE'\n",
        "\n",
        "df_bairro = df_crimes_perigosos[df_crimes_perigosos['Bairro'] == bairro]\n",
        "\n",
        "ranking = df_bairro['Natureza'].value_counts().reset_index(name='crimes')\n",
        "print(ranking)\n",
        "\n"
      ],
      "metadata": {
        "colab": {
          "base_uri": "https://localhost:8080/"
        },
        "id": "JSYiRh8KyrwE",
        "outputId": "c2a8bc71-6056-4f37-bcdf-fc075bba1219"
      },
      "execution_count": 12,
      "outputs": [
        {
          "output_type": "stream",
          "name": "stdout",
          "text": [
            "                                            Natureza  crimes\n",
            "0                                      FURTO SIMPLES    1953\n",
            "1                                  FURTO QUALIFICADO     599\n",
            "2                                              ROUBO     190\n",
            "3                                               DANO     115\n",
            "4                                     ROUBO AGRAVADO      78\n",
            "5                              VIOLACAO DE DOMICILIO      33\n",
            "6                      DROGAS PARA O CONSUMO PESSOAL      27\n",
            "7                               FURTO DE COISA COMUM      16\n",
            "8  PORTE ILEGAL DE ARMA DE FOGO, ACESSORIO OU MUN...       1\n",
            "9        ROUBO COM RESULTADO DE LESAO CORPORAL GRAVE       1\n"
          ]
        }
      ]
    },
    {
      "cell_type": "code",
      "source": [
        "# Bairros com mais sequestros\n",
        "\n",
        "crime = 'EXTORSAO MEDIANTE SEQUESTRO'\n",
        "\n",
        "df = dt['CTBA_2024'][['Bairro', 'Natureza']]\n",
        "\n",
        "#                                    #conta os campos\n",
        "contagem = df.value_counts(subset=['Bairro', 'Natureza']).reset_index(name='Crimes')\n",
        "\n",
        "# selecionar crime\n",
        "filtro = contagem[contagem['Natureza'] == crime]\n",
        "\n",
        "# Ordenar por ordem descrecente\n",
        "ranking = filtro.sort_values(by='Crimes', ascending=False)\n",
        "\n",
        "print(ranking[['Bairro', 'Crimes']].head(10))\n",
        "print(ranking[['Crimes']].sum())\n"
      ],
      "metadata": {
        "id": "UOyNsT78eHVT",
        "outputId": "7b3ffe8f-68a7-43dd-b4d6-005d83d3ce43",
        "colab": {
          "base_uri": "https://localhost:8080/"
        }
      },
      "execution_count": null,
      "outputs": [
        {
          "output_type": "stream",
          "name": "stdout",
          "text": [
            "                            Bairro  Crimes\n",
            "569                      TATUQUARA       5\n",
            "573                      BOA VISTA       5\n",
            "626  CIDADE INDUSTRIAL DE CURITIBA       3\n",
            "630               SANTA FELICIDADE       3\n",
            "637                          XAXIM       2\n",
            "638                        UBERABA       2\n",
            "648                         CENTRO       2\n",
            "666                  SAO FRANCISCO       2\n",
            "672                       REBOUCAS       1\n",
            "673                     NOVO MUNDO       1\n",
            "Crimes    34\n",
            "dtype: int64\n"
          ]
        }
      ]
    },
    {
      "cell_type": "code",
      "source": [
        "# Horário com mais sequestro\n",
        "\n",
        "crime = 'EXTORSAO MEDIANTE SEQUESTRO'\n",
        "\n",
        "# listar campos\n",
        "df = dt['CTBA_2024'][['Hora', 'Natureza']]\n",
        "\n",
        "# selecionar crime\n",
        "df_sequestro = df[df['Natureza'] == crime]\n",
        "\n",
        "#                    count do campo\n",
        "ranking = df_sequestro['Hora'].value_counts().reset_index(name='Crimes')\n",
        "ranking.columns = ['Hora', 'Crimes']\n",
        "\n",
        "# Ordenar por ordem descrecente\n",
        "ranking = ranking.sort_values(by='Crimes', ascending=False)\n",
        "\n",
        "print(ranking.head(5))\n"
      ],
      "metadata": {
        "id": "-ajCkkR1lGKo",
        "colab": {
          "base_uri": "https://localhost:8080/"
        },
        "outputId": "c7bdce11-bf82-4c8e-a08a-93ac5267ed54"
      },
      "execution_count": null,
      "outputs": [
        {
          "output_type": "stream",
          "name": "stdout",
          "text": [
            "   Hora  Crimes\n",
            "0    10       4\n",
            "1     9       4\n",
            "2     8       4\n",
            "3    12       3\n",
            "4    13       3\n"
          ]
        }
      ]
    },
    {
      "cell_type": "code",
      "source": [
        "# Dia da semana com mais sequestro\n",
        "\n",
        "crime = 'EXTORSAO MEDIANTE SEQUESTRO'\n",
        "\n",
        "# listar campos\n",
        "df = dt['CTBA_2024'][['Dia da Semana', 'Natureza']]\n",
        "\n",
        "# selecionar crime\n",
        "df_sequestro = df[df['Natureza'] == crime]\n",
        "\n",
        "#                    count do campo\n",
        "ranking = df_sequestro['Dia da Semana'].value_counts().reset_index(name='Crimes')\n",
        "ranking.columns = ['Dia da Semana', 'Crimes']\n",
        "\n",
        "# Ordenar por ordem descrecente\n",
        "ranking = ranking.sort_values(by='Crimes', ascending=False)\n",
        "\n",
        "print(ranking)\n"
      ],
      "metadata": {
        "colab": {
          "base_uri": "https://localhost:8080/"
        },
        "id": "yFI8X-vCtlgP",
        "outputId": "1bcc11be-e72b-4a7e-d0fa-6e76c57cfc74"
      },
      "execution_count": null,
      "outputs": [
        {
          "output_type": "stream",
          "name": "stdout",
          "text": [
            "  Dia da Semana  Crimes\n",
            "0           seg      10\n",
            "1           qua       7\n",
            "2           qui       6\n",
            "3           ter       6\n",
            "4           sex       4\n",
            "5           dom       1\n"
          ]
        }
      ]
    },
    {
      "cell_type": "code",
      "source": [
        "# Período com mais sequestro\n",
        "\n",
        "crime = 'EXTORSAO MEDIANTE SEQUESTRO'\n",
        "\n",
        "# listar campos\n",
        "df = dt['CTBA_2024'][['Hora', 'Natureza']]\n",
        "\n",
        "# selecionar crime\n",
        "df_sequestro = df[df['Natureza'] == crime]\n",
        "\n",
        "def periodo(hora):\n",
        "  if 6 <= hora <= 11:\n",
        "    return 'Manhã'\n",
        "  elif 12 <= hora <= 17:\n",
        "    return 'Tarde'\n",
        "  else:\n",
        "    return 'Noite'\n",
        "\n",
        "# cria coluna faixa e aplica a função para o campo hora\n",
        "df_sequestro['Periodo'] = df_sequestro['Hora'].apply(periodo)\n",
        "\n",
        "#                           count do campo\n",
        "ranking_faixas = df_sequestro['Periodo'].value_counts().reset_index(name='Crimes')\n",
        "ranking_faixas.columns = ['Periodo', 'Crimes']\n",
        "\n",
        "# Ordenar por ordem descrecente\n",
        "ranking = ranking.sort_values(by='Crimes', ascending=False)\n",
        "\n",
        "print(ranking_faixas)\n"
      ],
      "metadata": {
        "colab": {
          "base_uri": "https://localhost:8080/"
        },
        "id": "MeA5CN0xPsq8",
        "outputId": "dcbf523f-b6d5-4174-fe70-682edfd1caff"
      },
      "execution_count": null,
      "outputs": [
        {
          "output_type": "stream",
          "name": "stdout",
          "text": [
            "  Periodo  Crimes\n",
            "0   Manhã      15\n",
            "1   Tarde      11\n",
            "2   Noite       8\n"
          ]
        },
        {
          "output_type": "stream",
          "name": "stderr",
          "text": [
            "/tmp/ipython-input-1815435853.py:20: SettingWithCopyWarning: \n",
            "A value is trying to be set on a copy of a slice from a DataFrame.\n",
            "Try using .loc[row_indexer,col_indexer] = value instead\n",
            "\n",
            "See the caveats in the documentation: https://pandas.pydata.org/pandas-docs/stable/user_guide/indexing.html#returning-a-view-versus-a-copy\n",
            "  df_sequestro['Periodo'] = df_sequestro['Hora'].apply(periodo)\n"
          ]
        }
      ]
    },
    {
      "cell_type": "code",
      "source": [
        "# Ranking top 20 do bairros com mais crimes em moradias\n",
        "\n",
        "df = dt['CTBA_2024'][['Bairro', 'Natureza', 'Ambiente']]\n",
        "\n",
        "# Filtrar dano em ambientes residencias\n",
        "\n",
        "#                                 selecionar crime                                    copia os dados\n",
        "violacao = df[(df['Natureza'] == 'VIOLACAO DE DOMICILIO') & (df['Ambiente'] == 'RESIDENCIA')].copy()\n",
        "violacao['Crime'] = 'VIOLACAO DE DOMICILIO'\n",
        "\n",
        "# Filtrar violação de domicilio\n",
        "\n",
        "#                                           seleciona campos                        copia os dados\n",
        "dano_residencial = df[(df['Natureza'] == 'DANO') & (df['Ambiente'] == 'RESIDENCIA')].copy()\n",
        "dano_residencial['Crime'] = 'DANO'\n",
        "\n",
        "# Filtrar filtros e roubos em residencias\n",
        "furtos_roubos_residencias = dt['CTBA_2024'][(dt['CTBA_2024']['Natureza'].isin(furtos_roubos)) & (dt['CTBA_2024']['Ambiente'] == 'RESIDENCIA')].copy()\n",
        "furtos_roubos_residencias['Crime'] = 'FURTO/ROUBO'\n",
        "\n",
        "crimes_moradias = pd.concat([violacao, dano_residencial, furtos_roubos_residencias])\n",
        "\n",
        "# lista os crimes com os tres filtros\n",
        "ranking = crimes_moradias.groupby(['Bairro', 'Crime']).size().reset_index(name='Crimes')\n",
        "crime_bairro = ranking.loc[ranking.groupby('Bairro')['Crimes'].idxmax()]\n",
        "\n",
        "ranking_crime_bairro = crime_bairro.sort_values(by='Crimes', ascending=False)\n",
        "\n",
        "print(ranking_crime_bairro.head(20))"
      ],
      "metadata": {
        "colab": {
          "base_uri": "https://localhost:8080/"
        },
        "id": "4PbHlICfeYK3",
        "outputId": "516cdecc-d176-4d7f-c6ac-97128f475358"
      },
      "execution_count": null,
      "outputs": [
        {
          "output_type": "stream",
          "name": "stdout",
          "text": [
            "                            Bairro        Crime  Crimes\n",
            "188                  SITIO CERCADO  FURTO/ROUBO     256\n",
            "57                          CAJURU  FURTO/ROUBO     230\n",
            "86   CIDADE INDUSTRIAL DE CURITIBA  FURTO/ROUBO     199\n",
            "45                       BOQUEIRAO  FURTO/ROUBO     198\n",
            "201                        UBERABA  FURTO/ROUBO     150\n",
            "195                      TATUQUARA  FURTO/ROUBO     147\n",
            "80                          CENTRO  FURTO/ROUBO     120\n",
            "4                       AGUA VERDE  FURTO/ROUBO      84\n",
            "147                    PINHEIRINHO  FURTO/ROUBO      81\n",
            "135                     NOVO MUNDO  FURTO/ROUBO      79\n",
            "213                          XAXIM  FURTO/ROUBO      78\n",
            "10                  ALTO BOQUEIRAO  FURTO/ROUBO      68\n",
            "156                       REBOUCAS  FURTO/ROUBO      68\n",
            "27                     BAIRRO ALTO  FURTO/ROUBO      67\n",
            "66                CAMPO DE SANTANA  FURTO/ROUBO      66\n",
            "39                       BOA VISTA  FURTO/ROUBO      62\n",
            "150                         PORTAO  FURTO/ROUBO      56\n",
            "72                      CAPAO RASO  FURTO/ROUBO      55\n",
            "159                  SANTA CANDIDA  FURTO/ROUBO      54\n",
            "116            JARDIM DAS AMERICAS  FURTO/ROUBO      54\n"
          ]
        }
      ]
    },
    {
      "cell_type": "code",
      "source": [
        "# Ranking top 20 do bairros com menos crimes em moradias\n",
        "\n",
        "df = dt['CTBA_2024'][['Bairro', 'Natureza', 'Ambiente']]\n",
        "\n",
        "# Filtrar dano em ambientes residencias\n",
        "\n",
        "#                                 selecionar crime                                    copia os dados\n",
        "violacao = df[(df['Natureza'] == 'VIOLACAO DE DOMICILIO') & (df['Ambiente'] == 'RESIDENCIA')].copy()\n",
        "violacao['Crime'] = 'VIOLACAO DE DOMICILIO'\n",
        "\n",
        "# Filtrar violação de domicilio\n",
        "\n",
        "#                                           seleciona campos                        copia os dados\n",
        "dano_residencial = df[(df['Natureza'] == 'DANO') & (df['Ambiente'] == 'RESIDENCIA')].copy()\n",
        "dano_residencial['Crime'] = 'DANO'\n",
        "\n",
        "# Filtrar filtros e roubos em residencias\n",
        "furtos_roubos_residencias = dt['CTBA_2024'][(dt['CTBA_2024']['Natureza'].isin(furtos_roubos)) & (dt['CTBA_2024']['Ambiente'] == 'RESIDENCIA')].copy()\n",
        "furtos_roubos_residencias['Crime'] = 'FURTO/ROUBO'\n",
        "\n",
        "#adicionar os filtros\n",
        "crimes_moradias = pd.concat([violacao, dano_residencial, furtos_roubos_residencias])\n",
        "\n",
        "# lista os crimes com os tres filtros\n",
        "ranking = crimes_moradias.groupby(['Bairro', 'Crime']).size().reset_index(name='Crimes')\n",
        "crime_bairro = ranking.loc[ranking.groupby('Bairro')['Crimes'].idxmax()]\n",
        "\n",
        "ranking_crime_bairro = crime_bairro.sort_values(by='Crimes', ascending=False)\n",
        "\n",
        "print(ranking_crime_bairro.iloc[40:65])"
      ],
      "metadata": {
        "colab": {
          "base_uri": "https://localhost:8080/"
        },
        "id": "Of_CHNjGSABw",
        "outputId": "509cd3bb-b1c5-4637-98e1-ce4c51825a8b"
      },
      "execution_count": null,
      "outputs": [
        {
          "output_type": "stream",
          "name": "stdout",
          "text": [
            "                  Bairro        Crime  Crimes\n",
            "141              PAROLIN  FURTO/ROUBO      31\n",
            "129               MERCES  FURTO/ROUBO      27\n",
            "1              ABRANCHES  FURTO/ROUBO      26\n",
            "185            SEMINARIO  FURTO/ROUBO      25\n",
            "192               TARUMA  FURTO/ROUBO      23\n",
            "126              LINDOIA  FURTO/ROUBO      23\n",
            "33                 BATEL  FURTO/ROUBO      20\n",
            "110           HUGO LANGE  FURTO/ROUBO      19\n",
            "119        JARDIM SOCIAL  FURTO/ROUBO      19\n",
            "174        SAO FRANCISCO  FURTO/ROUBO      16\n",
            "210         VISTA ALEGRE  FURTO/ROUBO      16\n",
            "207          VILA IZABEL  FURTO/ROUBO      16\n",
            "92                 FANNY  FURTO/ROUBO      16\n",
            "42            BOM RETIRO  FURTO/ROUBO      15\n",
            "122               JUVEVE  FURTO/ROUBO      15\n",
            "48          BUTIATUVINHA  FURTO/ROUBO      14\n",
            "13        ALTO DA GLORIA  FURTO/ROUBO      13\n",
            "198               TINGUI  FURTO/ROUBO      13\n",
            "168         SANTO INACIO  FURTO/ROUBO      13\n",
            "132            MOSSUNGUE  FURTO/ROUBO      13\n",
            "180         SAO LOURENCO  FURTO/ROUBO      12\n",
            "51                CABRAL  FURTO/ROUBO      12\n",
            "74            CASCATINHA  FURTO/ROUBO      11\n",
            "7                    AHU  FURTO/ROUBO      10\n",
            "60   CAMPINA DO SIQUEIRA  FURTO/ROUBO       9\n"
          ]
        }
      ]
    },
    {
      "cell_type": "code",
      "source": [
        "# Crimes em moradias por bairro\n",
        "df = dt['CTBA_2024'][['Bairro', 'Natureza', 'Ambiente']]\n",
        "\n",
        "bairro = 'CENTRO'\n",
        "\n",
        "#                                 selecionar crime                                    copia os dados\n",
        "violacao = df[(df['Natureza'] == 'VIOLACAO DE DOMICILIO') & (df['Ambiente'] == 'RESIDENCIA')].copy()\n",
        "violacao['Crime'] = 'VIOLACAO DE DOMICILIO'\n",
        "\n",
        "# Filtrar violação de domicilio\n",
        "\n",
        "#                                           seleciona campos                        copia os dados\n",
        "dano_residencial = df[(df['Natureza'] == 'DANO') & (df['Ambiente'] == 'RESIDENCIA')].copy()\n",
        "dano_residencial['Crime'] = 'DANO'\n",
        "\n",
        "# Filtrar filtros e roubos em residencias\n",
        "furtos_roubos_residencias = dt['CTBA_2024'][(dt['CTBA_2024']['Natureza'].isin(furtos_roubos)) & (dt['CTBA_2024']['Ambiente'] == 'RESIDENCIA')].copy()\n",
        "furtos_roubos_residencias['Crime'] = 'FURTO/ROUBO'\n",
        "\n",
        "crimes_moradias = pd.concat([violacao, dano_residencial, furtos_roubos_residencias])\n",
        "\n",
        "# Filtrar apenas o bairro desejado\n",
        "crimes_bairro = crimes_moradias[crimes_moradias['Bairro'] == bairro]\n",
        "\n",
        "# Contagem por Natureza\n",
        "ranking_crimes_bairro = crimes_bairro.groupby('Natureza').size().reset_index(name='Crimes')\n",
        "\n",
        "# Ordena do mais frequente para o menos frequente\n",
        "ranking_crimes_bairro = ranking_crimes_bairro.sort_values(by='Crimes', ascending=False)\n",
        "\n",
        "print(ranking_crimes_bairro)\n"
      ],
      "metadata": {
        "colab": {
          "base_uri": "https://localhost:8080/"
        },
        "id": "L61MOjmC986a",
        "outputId": "03c29194-38c5-4e45-a5bb-95289386e4a8"
      },
      "execution_count": null,
      "outputs": [
        {
          "output_type": "stream",
          "name": "stdout",
          "text": [
            "                Natureza  Crimes\n",
            "2      FURTO QUALIFICADO      62\n",
            "3          FURTO SIMPLES      44\n",
            "0                   DANO      42\n",
            "6  VIOLACAO DE DOMICILIO      26\n",
            "4                  ROUBO       7\n",
            "5         ROUBO AGRAVADO       4\n",
            "1   FURTO DE COISA COMUM       3\n"
          ]
        }
      ]
    },
    {
      "cell_type": "code",
      "source": [
        "# Periodo de crimes contra moradias\n",
        "\n",
        "df = dt['CTBA_2024'][['Bairro', 'Natureza', 'Hora', 'Ambiente']]\n",
        "\n",
        "# Filtrar violação de domicilio\n",
        "#                                 selecionar crime                                    copia os dados\n",
        "violacao = df[(df['Natureza'] == 'VIOLACAO DE DOMICILIO') & (df['Ambiente'] == 'RESIDENCIA')].copy()\n",
        "violacao['Crime'] = 'VIOLACAO DE DOMICILIO'\n",
        "\n",
        "# Filtrar violação de domicilio\n",
        "\n",
        "#                                           seleciona campos                        copia os dados\n",
        "dano_residencial = df[(df['Natureza'] == 'DANO') & (df['Ambiente'] == 'RESIDENCIA')].copy()\n",
        "dano_residencial['Crime'] = 'DANO'\n",
        "\n",
        "# Filtrar filtros e roubos em residencias\n",
        "furtos_roubos_residencias = dt['CTBA_2024'][(dt['CTBA_2024']['Natureza'].isin(furtos_roubos)) & (dt['CTBA_2024']['Ambiente'] == 'RESIDENCIA')].copy()\n",
        "furtos_roubos_residencias['Crime'] = 'FURTO/ROUBO'\n",
        "\n",
        "# adiciona os filtros\n",
        "crimes_moradias = pd.concat([violacao, dano_residencial, furtos_roubos_residencias])\n",
        "\n",
        "def periodo(hora):\n",
        "  if 6 <= hora <= 11:\n",
        "    return 'Manhã'\n",
        "  elif 12 <= hora <= 17:\n",
        "    return 'Tarde'\n",
        "  else:\n",
        "    return 'Noite'\n",
        "\n",
        "# cria coluna periodo\n",
        "crimes_moradias['Periodo'] = crimes_moradias['Hora'].apply(periodo)\n",
        "\n",
        "# Contagem de crimes por período\n",
        "ranking_periodo = crimes_moradias.groupby('Periodo').size().reset_index(name='Crimes')\n",
        "\n",
        "# Ordena do período com mais crimes para o menor\n",
        "ranking_periodo = ranking_periodo.sort_values(by='Crimes', ascending=False)\n",
        "\n",
        "# Mostra os resultados\n",
        "print(ranking_periodo)"
      ],
      "metadata": {
        "colab": {
          "base_uri": "https://localhost:8080/"
        },
        "id": "NB4XsgwW5nq2",
        "outputId": "299f07c9-d3ea-4ee8-d8de-9df3d714ea2c"
      },
      "execution_count": null,
      "outputs": [
        {
          "output_type": "stream",
          "name": "stdout",
          "text": [
            "  Periodo  Crimes\n",
            "1   Noite    2921\n",
            "2   Tarde    1630\n",
            "0   Manhã    1488\n"
          ]
        }
      ]
    },
    {
      "cell_type": "code",
      "source": [
        "# Principal horário de crimes contra moradias\n",
        "\n",
        "df = dt['CTBA_2024'][['Bairro', 'Natureza', 'Hora', 'Ambiente']]\n",
        "\n",
        "# Filtrar violação de domicilio\n",
        "\n",
        "#                                 selecionar crime                                    copia os dados\n",
        "violacao = df[(df['Natureza'] == 'VIOLACAO DE DOMICILIO') & (df['Ambiente'] == 'RESIDENCIA')].copy()\n",
        "violacao['Crime'] = 'VIOLACAO DE DOMICILIO'\n",
        "\n",
        "# Filtrar dano em ambientes residencias\n",
        "\n",
        "#                                           seleciona campos                        copia os dados\n",
        "dano_residencial = df[(df['Natureza'] == 'DANO') & (df['Ambiente'] == 'RESIDENCIA')].copy()\n",
        "dano_residencial['Crime'] = 'DANO'\n",
        "\n",
        "# Filtrar filtros e roubos em residencias\n",
        "furtos_roubos_residencias = dt['CTBA_2024'][(dt['CTBA_2024']['Natureza'].isin(furtos_roubos)) & (dt['CTBA_2024']['Ambiente'] == 'RESIDENCIA')].copy()\n",
        "furtos_roubos_residencias['Crime'] = 'FURTO/ROUBO'\n",
        "\n",
        "#adiciona os filtros\n",
        "crimes_moradias = pd.concat([violacao, dano_residencial, furtos_roubos_residencias])\n",
        "\n",
        "# lista os crimes com os dois filtros\n",
        "ranking_horarios = crimes_moradias.groupby(['Hora']).size().reset_index(name='Crimes')\n",
        "\n",
        "# Ordena do horário com mais crimes para o menor\n",
        "ranking_horarios = ranking_horarios.sort_values(by='Crimes', ascending=False)\n",
        "\n",
        "# Mostra os 5 horários com mais crimes\n",
        "print(ranking_horarios.head(5))\n"
      ],
      "metadata": {
        "colab": {
          "base_uri": "https://localhost:8080/"
        },
        "id": "VS0PcT7ZmPyv",
        "outputId": "21d572df-7209-442f-cd31-737668820d5d"
      },
      "execution_count": null,
      "outputs": [
        {
          "output_type": "stream",
          "name": "stdout",
          "text": [
            "    Hora  Crimes\n",
            "0      0     356\n",
            "10    10     349\n",
            "12    12     339\n",
            "9      9     301\n",
            "15    15     300\n"
          ]
        }
      ]
    },
    {
      "cell_type": "code",
      "source": [
        "# Principal dia da semana de crimes contra moradias\n",
        "\n",
        "df = dt['CTBA_2024'][['Bairro', 'Natureza', 'Dia da Semana', 'Ambiente']]\n",
        "\n",
        "# Filtrar violação de domicilio\n",
        "\n",
        "#                                 selecionar crime                                    copia os dados\n",
        "violacao = df[(df['Natureza'] == 'VIOLACAO DE DOMICILIO') & (df['Ambiente'] == 'RESIDENCIA')].copy()\n",
        "violacao['Crime'] = 'VIOLACAO DE DOMICILIO'\n",
        "\n",
        "# Filtrar dano em ambientes residencias\n",
        "\n",
        "#                                           seleciona campos                        copia os dados\n",
        "dano_residencial = df[(df['Natureza'] == 'DANO') & (df['Ambiente'] == 'RESIDENCIA')].copy()\n",
        "dano_residencial['Crime'] = 'DANO'\n",
        "\n",
        "# Filtrar filtros e roubos em residencias\n",
        "furtos_roubos_residencias = dt['CTBA_2024'][(dt['CTBA_2024']['Natureza'].isin(furtos_roubos)) & (dt['CTBA_2024']['Ambiente'] == 'RESIDENCIA')].copy()\n",
        "furtos_roubos_residencias['Crime'] = 'FURTO/ROUBO'\n",
        "\n",
        "#adiciona os filtros\n",
        "crimes_moradias = pd.concat([violacao, dano_residencial, furtos_roubos_residencias])\n",
        "\n",
        "# lista os crimes com os dois filtros\n",
        "ranking_dia_semana = crimes_moradias.groupby(['Dia da Semana']).size().reset_index(name='Crimes')\n",
        "\n",
        "# Ordena do horário com mais crimes para o menor\n",
        "ranking_semana = ranking_dia_semana.sort_values(by='Crimes', ascending=False)\n",
        "\n",
        "# Mostra os 20 horários com mais crimes\n",
        "print(ranking_semana)\n"
      ],
      "metadata": {
        "colab": {
          "base_uri": "https://localhost:8080/"
        },
        "id": "lniqYsO2pkHG",
        "outputId": "d55d4827-053d-451f-e36a-b3a82731ce3e"
      },
      "execution_count": null,
      "outputs": [
        {
          "output_type": "stream",
          "name": "stdout",
          "text": [
            "  Dia da Semana  Crimes\n",
            "3           seg     928\n",
            "6           ter     917\n",
            "0           dom     917\n",
            "1           qua     859\n",
            "2           qui     842\n",
            "4           sex     816\n",
            "5           sáb     760\n"
          ]
        }
      ]
    },
    {
      "cell_type": "code",
      "source": [
        "# Principal crime por dia da semana\n",
        "\n",
        "df = dt['CTBA_2024'][['Dia da Semana', 'Natureza']]\n",
        "\n",
        "#                                    conta os campos\n",
        "contagem = df.value_counts(subset=['Dia da Semana', 'Natureza']).reset_index(name='Contagem')\n",
        "\n",
        "#                                                       seleciona ultimo id\n",
        "principal_crime_dia_semana = contagem.loc[contagem.groupby('Dia da Semana')['Contagem'].idxmax()].reset_index(drop=True)\n",
        "\n",
        "# Limita a coluna Natureza a 15 caracteres\n",
        "principal_crime_dia_semana['Natureza'] = principal_crime_dia_semana['Natureza'].str.slice(0, 15)\n",
        "\n",
        "# Ordena pelo número de ocorrências (decrescente) e pega os 3 primeiros\n",
        "ranking = principal_crime_dia_semana.sort_values(by='Contagem', ascending=False).head(50)\n",
        "\n",
        "print(ranking)\n"
      ],
      "metadata": {
        "id": "DlOHHj8jNcS_",
        "outputId": "e91de9c0-c67e-4414-ceda-f6bcc75d78a3",
        "colab": {
          "base_uri": "https://localhost:8080/"
        }
      },
      "execution_count": null,
      "outputs": [
        {
          "output_type": "stream",
          "name": "stdout",
          "text": [
            "  Dia da Semana       Natureza  Contagem\n",
            "4           sex  FURTO SIMPLES      5832\n",
            "1           qua  FURTO SIMPLES      5760\n",
            "6           ter  FURTO SIMPLES      5664\n",
            "3           seg  FURTO SIMPLES      5555\n",
            "2           qui  FURTO SIMPLES      5490\n",
            "5           sáb  FURTO SIMPLES      4673\n",
            "0           dom  FURTO SIMPLES      3849\n"
          ]
        }
      ]
    },
    {
      "cell_type": "code",
      "source": [
        "# Dia da semana que tem mais cada crime\n",
        "\n",
        "df = dt['CTBA_2024'][['Dia da Semana', 'Natureza']]\n",
        "\n",
        "#                                    #conta os campos\n",
        "contagem = df.value_counts(subset=['Natureza', 'Dia da Semana']).reset_index(name='Contagem')\n",
        "\n",
        "#                                                        #seleciona ultimo id\n",
        "principal_crime_dia = contagem.loc[contagem.groupby('Natureza')['Contagem'].idxmax()].reset_index(drop=True)\n",
        "\n",
        "# Limita a coluna Natureza a 15 caracteres\n",
        "principal_crime_dia['Natureza'] = principal_crime_dia['Natureza'].str.slice(0, 15)\n",
        "\n",
        "# Ordenar por ordem descrecente\n",
        "ranking = principal_crime_dia.sort_values(by='Contagem', ascending=False)\n",
        "\n",
        "print(ranking)\n",
        "\n"
      ],
      "metadata": {
        "id": "pb7Qx0cjxxbh",
        "outputId": "907debe0-daad-492b-8d16-6ccff8a31f36",
        "colab": {
          "base_uri": "https://localhost:8080/"
        }
      },
      "execution_count": null,
      "outputs": [
        {
          "output_type": "stream",
          "name": "stdout",
          "text": [
            "           Natureza Dia da Semana  Contagem\n",
            "6     FURTO SIMPLES           sex      5832\n",
            "7   PERTURBACAO DO            sáb      3411\n",
            "5   FURTO QUALIFICA           ter      1769\n",
            "9             ROUBO           ter       828\n",
            "2   DROGAS PARA O C           qui       816\n",
            "1              DANO           dom       656\n",
            "10   ROUBO AGRAVADO           sex       373\n",
            "12  VIOLACAO DE DOM           dom       267\n",
            "4   FURTO DE COISA            qui       126\n",
            "8   PORTE ILEGAL DE           ter        27\n",
            "3   EXTORSAO MEDIAN           seg        10\n",
            "11  ROUBO COM RESUL           sáb         7\n",
            "0   COMERCIO ILEGAL           qua         3\n"
          ]
        }
      ]
    },
    {
      "cell_type": "code",
      "source": [
        "# Ocorrências por tipos de furtos e roubos\n",
        "\n",
        "df_tipo_furtos = dt['CTBA_2024'][dt['CTBA_2024']['Natureza'].isin(furtos)]\n",
        "df_tipo_roubos = dt['CTBA_2024'][dt['CTBA_2024']['Natureza'].isin(roubos)]\n",
        "\n",
        "# Contagem das ocorrências\n",
        "df_tipo_furtos = df_tipo_furtos['Natureza'].value_counts().reset_index(name='crimes')\n",
        "df_tipo_roubos = df_tipo_roubos['Natureza'].value_counts().reset_index(name='crimes')\n",
        "\n",
        "# Renomeia colunas\n",
        "df_tipo_furtos.columns = ['Natureza', 'crimes']\n",
        "\n",
        "# Exibe o resultado\n",
        "print(df_tipo_furtos)\n",
        "print(df_tipo_roubos)"
      ],
      "metadata": {
        "id": "3lEb2WER9PLS",
        "outputId": "71051c93-f59a-41fa-803b-9dbd4b33b02b",
        "colab": {
          "base_uri": "https://localhost:8080/"
        }
      },
      "execution_count": null,
      "outputs": [
        {
          "output_type": "stream",
          "name": "stdout",
          "text": [
            "               Natureza  crimes\n",
            "0         FURTO SIMPLES   36823\n",
            "1     FURTO QUALIFICADO   10651\n",
            "2  FURTO DE COISA COMUM     683\n",
            "                                      Natureza  crimes\n",
            "0                                        ROUBO    5365\n",
            "1                               ROUBO AGRAVADO    2253\n",
            "2  ROUBO COM RESULTADO DE LESAO CORPORAL GRAVE      31\n"
          ]
        }
      ]
    },
    {
      "cell_type": "code",
      "source": [
        "# Principal hora de furtos e roubos\n",
        "\n",
        "# Filtrar apenas furtos e roubos\n",
        "df_furtos_roubos = dt['CTBA_2024'][dt['CTBA_2024']['Natureza'].isin(furtos_roubos)]\n",
        "\n",
        "# Contagem dos campos\n",
        "contagem = df_furtos_roubos.groupby(['Natureza', 'Hora']).size().reset_index(name='Ocorrências')\n",
        "\n",
        "# Seleciona hora principal\n",
        "principal_hora_por_crime = contagem.loc[contagem.groupby('Natureza')['Ocorrências'].idxmax()].reset_index(drop=True)\n",
        "\n",
        "# Ordena\n",
        "principal_hora_por_crime = principal_hora_por_crime.sort_values(by='Ocorrências', ascending=False)\n",
        "\n",
        "print(principal_hora_por_crime)\n"
      ],
      "metadata": {
        "colab": {
          "base_uri": "https://localhost:8080/"
        },
        "id": "2J3SukYUvJ6M",
        "outputId": "d28875f0-74f7-4a1d-bf42-6c002be04dbd"
      },
      "execution_count": null,
      "outputs": [
        {
          "output_type": "stream",
          "name": "stdout",
          "text": [
            "                                      Natureza  Hora  Ocorrências\n",
            "2                                FURTO SIMPLES     0         2876\n",
            "1                            FURTO QUALIFICADO     8          710\n",
            "3                                        ROUBO    20          381\n",
            "4                               ROUBO AGRAVADO    22          198\n",
            "0                         FURTO DE COISA COMUM    12           71\n",
            "5  ROUBO COM RESULTADO DE LESAO CORPORAL GRAVE     0            8\n"
          ]
        }
      ]
    },
    {
      "cell_type": "code",
      "source": [
        "# Principal hora de furtos e roubos por bairro\n",
        "\n",
        "bairro = 'CENTRO'\n",
        "\n",
        "# Filtrar apenas furtos e roubos\n",
        "df_furtos_roubos = dt['CTBA_2024'][(dt['CTBA_2024']['Bairro'] == bairro) & (dt['CTBA_2024']['Natureza'].isin(furtos_roubos))]\n",
        "\n",
        "# Contagem dos campos\n",
        "contagem = df_furtos_roubos.groupby(['Natureza', 'Hora']).size().reset_index(name='Ocorrências')\n",
        "\n",
        "# Seleciona hora principal\n",
        "principal_hora_por_crime = contagem.loc[contagem.groupby('Natureza')['Ocorrências'].idxmax()].reset_index(drop=True)\n",
        "\n",
        "# Ordena\n",
        "principal_hora_por_crime = principal_hora_por_crime.sort_values(by='Ocorrências', ascending=False)\n",
        "\n",
        "print(principal_hora_por_crime)\n"
      ],
      "metadata": {
        "colab": {
          "base_uri": "https://localhost:8080/"
        },
        "id": "DriKKshM2ZpZ",
        "outputId": "093b21fb-9034-46e4-ecbd-fa47bdb629f3"
      },
      "execution_count": null,
      "outputs": [
        {
          "output_type": "stream",
          "name": "stdout",
          "text": [
            "            Natureza  Hora  Ocorrências\n",
            "1      FURTO SIMPLES    16           14\n",
            "0  FURTO QUALIFICADO    15            4\n",
            "2              ROUBO    18            2\n",
            "3     ROUBO AGRAVADO     6            2\n"
          ]
        }
      ]
    },
    {
      "cell_type": "code",
      "source": [
        "# Principal periodo de furtos e roubos por bairro\n",
        "\n",
        "bairro = 'CENTRO'\n",
        "\n",
        "# Filtrar apenas furtos e roubos\n",
        "df_furtos_roubos = dt['CTBA_2024'][(dt['CTBA_2024']['Bairro'] == bairro) & (dt['CTBA_2024']['Natureza'].isin(furtos_roubos))]\n",
        "\n",
        "def periodo(hora):\n",
        "  if 6 <= hora <= 11:\n",
        "    return 'Manhã'\n",
        "  elif 12 <= hora <= 17:\n",
        "    return 'Tarde'\n",
        "  else:\n",
        "    return 'Noite'\n",
        "\n",
        "df_furtos_roubos['Periodo'] = df_furtos_roubos['Hora'].apply(periodo)\n",
        "\n",
        "# Contagem dos campos\n",
        "contagem = df_furtos_roubos.groupby(['Natureza', 'Periodo']).size().reset_index(name='Ocorrências')\n",
        "\n",
        "# Seleciona hora principal\n",
        "principal_hora_por_crime = contagem.loc[contagem.groupby('Natureza')['Ocorrências'].idxmax()].reset_index(drop=True)\n",
        "\n",
        "# Ordena\n",
        "principal_hora_por_crime = principal_hora_por_crime.sort_values(by='Ocorrências', ascending=False)\n",
        "\n",
        "print(principal_hora_por_crime)\n"
      ],
      "metadata": {
        "colab": {
          "base_uri": "https://localhost:8080/"
        },
        "id": "VdCgglKHy8no",
        "outputId": "d61f0eaa-33e3-485b-debf-c5f781e4ed29"
      },
      "execution_count": null,
      "outputs": [
        {
          "output_type": "stream",
          "name": "stdout",
          "text": [
            "                                      Natureza Periodo  Ocorrências\n",
            "2                                FURTO SIMPLES   Tarde         2345\n",
            "3                                        ROUBO   Noite          661\n",
            "1                            FURTO QUALIFICADO   Tarde          525\n",
            "4                               ROUBO AGRAVADO   Noite          292\n",
            "0                         FURTO DE COISA COMUM   Tarde           56\n",
            "5  ROUBO COM RESULTADO DE LESAO CORPORAL GRAVE   Noite           11\n"
          ]
        },
        {
          "output_type": "stream",
          "name": "stderr",
          "text": [
            "/tmp/ipython-input-1101479910.py:16: SettingWithCopyWarning: \n",
            "A value is trying to be set on a copy of a slice from a DataFrame.\n",
            "Try using .loc[row_indexer,col_indexer] = value instead\n",
            "\n",
            "See the caveats in the documentation: https://pandas.pydata.org/pandas-docs/stable/user_guide/indexing.html#returning-a-view-versus-a-copy\n",
            "  df_furtos_roubos['Periodo'] = df_furtos_roubos['Hora'].apply(periodo)\n"
          ]
        }
      ]
    },
    {
      "cell_type": "code",
      "source": [
        "# Crimes por periodo\n",
        "\n",
        "# Seleciona colunas\n",
        "df = dt['CTBA_2024'][['Hora', 'Natureza']].copy()\n",
        "\n",
        "def periodo(hora):\n",
        "    if 6 <= hora <= 11:\n",
        "        return 'Manhã'\n",
        "    elif 12 <= hora <= 17:\n",
        "        return 'Tarde'\n",
        "    else:\n",
        "        return 'Noite'\n",
        "\n",
        "# Cria periodo\n",
        "df['Periodo'] = df['Hora'].apply(periodo)\n",
        "\n",
        "# Contagem do crimes\n",
        "contagem = df.value_counts(subset=['Natureza', 'Periodo']).reset_index(name='Contagem')\n",
        "\n",
        "#                                                                  Seleciona o ultimo id\n",
        "principal_crime_periodo = contagem.loc[contagem.groupby('Natureza')['Contagem'].idxmax()].reset_index(drop=True)\n",
        "\n",
        "# Ordena por ordem decrescente\n",
        "ranking = principal_crime_periodo.sort_values(by='Contagem', ascending=False)\n",
        "\n",
        "print(ranking)\n"
      ],
      "metadata": {
        "colab": {
          "base_uri": "https://localhost:8080/"
        },
        "id": "kmI-BGNPCw7A",
        "outputId": "4c7d657c-dcde-49d4-e715-77ed67ef78b4"
      },
      "execution_count": null,
      "outputs": [
        {
          "output_type": "stream",
          "name": "stdout",
          "text": [
            "                                             Natureza Periodo  Contagem\n",
            "6                                       FURTO SIMPLES   Noite     17640\n",
            "7           PERTURBACAO DO TRABALHO OU SOSSEGO ALHEIO   Noite      8296\n",
            "5                                   FURTO QUALIFICADO   Noite      4596\n",
            "9                                               ROUBO   Noite      2901\n",
            "2                       DROGAS PARA O CONSUMO PESSOAL   Noite      2313\n",
            "1                                                DANO   Noite      1891\n",
            "10                                     ROUBO AGRAVADO   Noite      1284\n",
            "12                              VIOLACAO DE DOMICILIO   Noite       847\n",
            "4                                FURTO DE COISA COMUM   Noite       247\n",
            "8   PORTE ILEGAL DE ARMA DE FOGO, ACESSORIO OU MUN...   Noite        72\n",
            "11        ROUBO COM RESULTADO DE LESAO CORPORAL GRAVE   Noite        24\n",
            "3                         EXTORSAO MEDIANTE SEQUESTRO   Manhã        15\n",
            "0                     COMERCIO ILEGAL DE ARMA DE FOGO   Noite         2\n"
          ]
        }
      ]
    },
    {
      "cell_type": "code",
      "source": [
        "# Crimes por periodo e filtro por bairro\n",
        "\n",
        "bairro = 'CENTRO'\n",
        "\n",
        "# Seleciona colunas\n",
        "df = dt['CTBA_2024'][(dt['CTBA_2024']['Bairro'] == bairro)][['Hora', 'Natureza']].copy()\n",
        "\n",
        "def periodo(hora):\n",
        "    if 6 <= hora <= 11:\n",
        "        return 'Manhã'\n",
        "    elif 12 <= hora <= 17:\n",
        "        return 'Tarde'\n",
        "    else:\n",
        "        return 'Noite'\n",
        "\n",
        "# Cria periodo\n",
        "df['Periodo'] = df['Hora'].apply(periodo)\n",
        "\n",
        "# Contagem do crimes\n",
        "contagem = df.value_counts(subset=['Natureza', 'Periodo']).reset_index(name='Contagem')\n",
        "\n",
        "#                                                                  Seleciona o ultimo id\n",
        "principal_crime_periodo = contagem.loc[contagem.groupby('Natureza')['Contagem'].idxmax()].reset_index(drop=True)\n",
        "\n",
        "# Ordena por ordem decrescente\n",
        "ranking = principal_crime_periodo.sort_values(by='Contagem', ascending=False)\n",
        "\n",
        "print(ranking)\n"
      ],
      "metadata": {
        "colab": {
          "base_uri": "https://localhost:8080/"
        },
        "id": "MzUAfoFAJatb",
        "outputId": "71b28f93-6ac2-4514-8eec-70cd225081a0"
      },
      "execution_count": null,
      "outputs": [
        {
          "output_type": "stream",
          "name": "stdout",
          "text": [
            "                                             Natureza Periodo  Contagem\n",
            "6                                       FURTO SIMPLES   Tarde      2345\n",
            "9                                               ROUBO   Noite       661\n",
            "5                                   FURTO QUALIFICADO   Tarde       525\n",
            "2                       DROGAS PARA O CONSUMO PESSOAL   Noite       402\n",
            "10                                     ROUBO AGRAVADO   Noite       292\n",
            "7           PERTURBACAO DO TRABALHO OU SOSSEGO ALHEIO   Noite       258\n",
            "1                                                DANO   Noite       148\n",
            "4                                FURTO DE COISA COMUM   Tarde        56\n",
            "12                              VIOLACAO DE DOMICILIO   Noite        35\n",
            "11        ROUBO COM RESULTADO DE LESAO CORPORAL GRAVE   Noite        11\n",
            "8   PORTE ILEGAL DE ARMA DE FOGO, ACESSORIO OU MUN...   Tarde         3\n",
            "3                         EXTORSAO MEDIANTE SEQUESTRO   Noite         2\n",
            "0                     COMERCIO ILEGAL DE ARMA DE FOGO   Noite         2\n"
          ]
        }
      ]
    },
    {
      "cell_type": "code",
      "source": [
        "# Dia da semana com mais ocorrências no geral\n",
        "\n",
        "# listar campos\n",
        "df = dt['CTBA_2024'][['Dia da Semana', 'Natureza']]\n",
        "\n",
        "#                    count do campo\n",
        "ranking = df['Dia da Semana'].value_counts().reset_index(name='Crimes')\n",
        "ranking.columns = ['Dia da Semana', 'Crimes']\n",
        "\n",
        "# Ordenar por ordem descrecente\n",
        "ranking = ranking.sort_values(by='Crimes', ascending=False)\n",
        "\n",
        "print(ranking)\n"
      ],
      "metadata": {
        "colab": {
          "base_uri": "https://localhost:8080/"
        },
        "id": "vXUxAejrI1pV",
        "outputId": "3d28c5aa-3a9d-4b63-fb0a-a3fee2fc33e0"
      },
      "execution_count": null,
      "outputs": [
        {
          "output_type": "stream",
          "name": "stdout",
          "text": [
            "  Dia da Semana  Crimes\n",
            "0           sex   11921\n",
            "1           sáb   11803\n",
            "2           qua   10989\n",
            "3           ter   10672\n",
            "4           qui   10613\n",
            "5           seg   10435\n",
            "6           dom   10430\n"
          ]
        }
      ]
    },
    {
      "cell_type": "code",
      "source": [
        "# Dia da semana com crimes mais violentos\n",
        "\n",
        "# Filtra somente crimes violentos\n",
        "df_crimes_violentos = dt['CTBA_2024'][dt['CTBA_2024']['Natureza'].isin(crimes_violentos)]\n",
        "\n",
        "# Contagem por dia da semana\n",
        "ranking = df_crimes_violentos['Dia da Semana'].value_counts().reset_index(name='Crimes')\n",
        "ranking.columns = ['Dia da Semana', 'Crimes']\n",
        "\n",
        "# Ordenar do maior para o menor\n",
        "ranking = ranking.sort_values(by='Crimes', ascending=False)\n",
        "\n",
        "print(ranking)\n",
        "\n"
      ],
      "metadata": {
        "id": "mb6yZqODKUTS",
        "outputId": "e7d9d0b6-e290-42fc-df9c-1a7dd2bad76d",
        "colab": {
          "base_uri": "https://localhost:8080/"
        }
      },
      "execution_count": 24,
      "outputs": [
        {
          "output_type": "stream",
          "name": "stdout",
          "text": [
            "  Dia da Semana  Crimes\n",
            "0           ter    1157\n",
            "1           seg    1155\n",
            "2           qua    1153\n",
            "3           sex    1138\n",
            "4           qui    1118\n",
            "5           dom     986\n",
            "6           sáb     976\n"
          ]
        }
      ]
    },
    {
      "cell_type": "code",
      "source": [
        "# Bairros com crimes mais violentos\n",
        "\n",
        "# Filtra somente crimes violentos\n",
        "df_crimes_violentos = dt['CTBA_2024'][dt['CTBA_2024']['Natureza'].isin(crimes_violentos)]\n",
        "\n",
        "# Contagem por bairro\n",
        "ranking_bairro = df_crimes_violentos['Bairro'].value_counts().reset_index(name='Crimes')\n",
        "ranking_bairro.columns = ['Bairro', 'Crimes']\n",
        "\n",
        "# Ordenar do maior para o menor\n",
        "ranking_bairro = ranking_bairro.sort_values(by='Crimes', ascending=False)\n",
        "\n",
        "print(ranking_bairro.head(20))"
      ],
      "metadata": {
        "id": "jd3ICOI7kTCI",
        "outputId": "e9216e29-4ff2-4c15-c71d-cdb5624bf52d",
        "colab": {
          "base_uri": "https://localhost:8080/"
        }
      },
      "execution_count": 32,
      "outputs": [
        {
          "output_type": "stream",
          "name": "stdout",
          "text": [
            "                           Bairro  Crimes\n",
            "0                          CENTRO    1617\n",
            "1   CIDADE INDUSTRIAL DE CURITIBA     381\n",
            "2                   SITIO CERCADO     330\n",
            "3                       BOQUEIRAO     317\n",
            "4                      AGUA VERDE     269\n",
            "5                     PINHEIRINHO     266\n",
            "6                          CAJURU     253\n",
            "7                        REBOUCAS     241\n",
            "8                          PORTAO     219\n",
            "9                       TATUQUARA     172\n",
            "10                        UBERABA     171\n",
            "11                  SAO FRANCISCO     158\n",
            "12                          HAUER     150\n",
            "13                     NOVO MUNDO     147\n",
            "14                     CAPAO RASO     134\n",
            "15                JARDIM BOTANICO     133\n",
            "16                          XAXIM     123\n",
            "17                        PAROLIN     123\n",
            "18                          BATEL     122\n",
            "19                 ALTO BOQUEIRAO     120\n"
          ]
        }
      ]
    }
  ]
}