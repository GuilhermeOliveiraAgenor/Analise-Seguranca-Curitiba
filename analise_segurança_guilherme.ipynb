{
  "nbformat": 4,
  "nbformat_minor": 0,
  "metadata": {
    "colab": {
      "provenance": [],
      "include_colab_link": true
    },
    "kernelspec": {
      "name": "python3",
      "display_name": "Python 3"
    },
    "language_info": {
      "name": "python"
    }
  },
  "cells": [
    {
      "cell_type": "markdown",
      "metadata": {
        "id": "view-in-github",
        "colab_type": "text"
      },
      "source": [
        "<a href=\"https://colab.research.google.com/github/GuilhermeOliveiraAgenor/Analise-Seguranca-Curitiba/blob/feature%2Fguilherme/analise_seguran%C3%A7a_guilherme.ipynb\" target=\"_parent\"><img src=\"https://colab.research.google.com/assets/colab-badge.svg\" alt=\"Open In Colab\"/></a>"
      ]
    },
    {
      "cell_type": "code",
      "source": [
        "from google.colab import files\n",
        "import pandas as pd\n",
        "\n",
        "# Faz upload do arquivo do seu PC\n",
        "uploaded = files.upload()\n",
        "\n",
        "# Pega o nome do arquivo enviado\n",
        "file_path = list(uploaded.keys())[0]\n"
      ],
      "metadata": {
        "id": "LotOrqPPEYLV",
        "colab": {
          "base_uri": "https://localhost:8080/",
          "height": 73
        },
        "outputId": "3e812e32-ff35-40f1-99a0-8e376985769d"
      },
      "execution_count": 1,
      "outputs": [
        {
          "output_type": "display_data",
          "data": {
            "text/plain": [
              "<IPython.core.display.HTML object>"
            ],
            "text/html": [
              "\n",
              "     <input type=\"file\" id=\"files-5411a29c-a75a-4c32-8c17-cf3caa3b7ba7\" name=\"files[]\" multiple disabled\n",
              "        style=\"border:none\" />\n",
              "     <output id=\"result-5411a29c-a75a-4c32-8c17-cf3caa3b7ba7\">\n",
              "      Upload widget is only available when the cell has been executed in the\n",
              "      current browser session. Please rerun this cell to enable.\n",
              "      </output>\n",
              "      <script>// Copyright 2017 Google LLC\n",
              "//\n",
              "// Licensed under the Apache License, Version 2.0 (the \"License\");\n",
              "// you may not use this file except in compliance with the License.\n",
              "// You may obtain a copy of the License at\n",
              "//\n",
              "//      http://www.apache.org/licenses/LICENSE-2.0\n",
              "//\n",
              "// Unless required by applicable law or agreed to in writing, software\n",
              "// distributed under the License is distributed on an \"AS IS\" BASIS,\n",
              "// WITHOUT WARRANTIES OR CONDITIONS OF ANY KIND, either express or implied.\n",
              "// See the License for the specific language governing permissions and\n",
              "// limitations under the License.\n",
              "\n",
              "/**\n",
              " * @fileoverview Helpers for google.colab Python module.\n",
              " */\n",
              "(function(scope) {\n",
              "function span(text, styleAttributes = {}) {\n",
              "  const element = document.createElement('span');\n",
              "  element.textContent = text;\n",
              "  for (const key of Object.keys(styleAttributes)) {\n",
              "    element.style[key] = styleAttributes[key];\n",
              "  }\n",
              "  return element;\n",
              "}\n",
              "\n",
              "// Max number of bytes which will be uploaded at a time.\n",
              "const MAX_PAYLOAD_SIZE = 100 * 1024;\n",
              "\n",
              "function _uploadFiles(inputId, outputId) {\n",
              "  const steps = uploadFilesStep(inputId, outputId);\n",
              "  const outputElement = document.getElementById(outputId);\n",
              "  // Cache steps on the outputElement to make it available for the next call\n",
              "  // to uploadFilesContinue from Python.\n",
              "  outputElement.steps = steps;\n",
              "\n",
              "  return _uploadFilesContinue(outputId);\n",
              "}\n",
              "\n",
              "// This is roughly an async generator (not supported in the browser yet),\n",
              "// where there are multiple asynchronous steps and the Python side is going\n",
              "// to poll for completion of each step.\n",
              "// This uses a Promise to block the python side on completion of each step,\n",
              "// then passes the result of the previous step as the input to the next step.\n",
              "function _uploadFilesContinue(outputId) {\n",
              "  const outputElement = document.getElementById(outputId);\n",
              "  const steps = outputElement.steps;\n",
              "\n",
              "  const next = steps.next(outputElement.lastPromiseValue);\n",
              "  return Promise.resolve(next.value.promise).then((value) => {\n",
              "    // Cache the last promise value to make it available to the next\n",
              "    // step of the generator.\n",
              "    outputElement.lastPromiseValue = value;\n",
              "    return next.value.response;\n",
              "  });\n",
              "}\n",
              "\n",
              "/**\n",
              " * Generator function which is called between each async step of the upload\n",
              " * process.\n",
              " * @param {string} inputId Element ID of the input file picker element.\n",
              " * @param {string} outputId Element ID of the output display.\n",
              " * @return {!Iterable<!Object>} Iterable of next steps.\n",
              " */\n",
              "function* uploadFilesStep(inputId, outputId) {\n",
              "  const inputElement = document.getElementById(inputId);\n",
              "  inputElement.disabled = false;\n",
              "\n",
              "  const outputElement = document.getElementById(outputId);\n",
              "  outputElement.innerHTML = '';\n",
              "\n",
              "  const pickedPromise = new Promise((resolve) => {\n",
              "    inputElement.addEventListener('change', (e) => {\n",
              "      resolve(e.target.files);\n",
              "    });\n",
              "  });\n",
              "\n",
              "  const cancel = document.createElement('button');\n",
              "  inputElement.parentElement.appendChild(cancel);\n",
              "  cancel.textContent = 'Cancel upload';\n",
              "  const cancelPromise = new Promise((resolve) => {\n",
              "    cancel.onclick = () => {\n",
              "      resolve(null);\n",
              "    };\n",
              "  });\n",
              "\n",
              "  // Wait for the user to pick the files.\n",
              "  const files = yield {\n",
              "    promise: Promise.race([pickedPromise, cancelPromise]),\n",
              "    response: {\n",
              "      action: 'starting',\n",
              "    }\n",
              "  };\n",
              "\n",
              "  cancel.remove();\n",
              "\n",
              "  // Disable the input element since further picks are not allowed.\n",
              "  inputElement.disabled = true;\n",
              "\n",
              "  if (!files) {\n",
              "    return {\n",
              "      response: {\n",
              "        action: 'complete',\n",
              "      }\n",
              "    };\n",
              "  }\n",
              "\n",
              "  for (const file of files) {\n",
              "    const li = document.createElement('li');\n",
              "    li.append(span(file.name, {fontWeight: 'bold'}));\n",
              "    li.append(span(\n",
              "        `(${file.type || 'n/a'}) - ${file.size} bytes, ` +\n",
              "        `last modified: ${\n",
              "            file.lastModifiedDate ? file.lastModifiedDate.toLocaleDateString() :\n",
              "                                    'n/a'} - `));\n",
              "    const percent = span('0% done');\n",
              "    li.appendChild(percent);\n",
              "\n",
              "    outputElement.appendChild(li);\n",
              "\n",
              "    const fileDataPromise = new Promise((resolve) => {\n",
              "      const reader = new FileReader();\n",
              "      reader.onload = (e) => {\n",
              "        resolve(e.target.result);\n",
              "      };\n",
              "      reader.readAsArrayBuffer(file);\n",
              "    });\n",
              "    // Wait for the data to be ready.\n",
              "    let fileData = yield {\n",
              "      promise: fileDataPromise,\n",
              "      response: {\n",
              "        action: 'continue',\n",
              "      }\n",
              "    };\n",
              "\n",
              "    // Use a chunked sending to avoid message size limits. See b/62115660.\n",
              "    let position = 0;\n",
              "    do {\n",
              "      const length = Math.min(fileData.byteLength - position, MAX_PAYLOAD_SIZE);\n",
              "      const chunk = new Uint8Array(fileData, position, length);\n",
              "      position += length;\n",
              "\n",
              "      const base64 = btoa(String.fromCharCode.apply(null, chunk));\n",
              "      yield {\n",
              "        response: {\n",
              "          action: 'append',\n",
              "          file: file.name,\n",
              "          data: base64,\n",
              "        },\n",
              "      };\n",
              "\n",
              "      let percentDone = fileData.byteLength === 0 ?\n",
              "          100 :\n",
              "          Math.round((position / fileData.byteLength) * 100);\n",
              "      percent.textContent = `${percentDone}% done`;\n",
              "\n",
              "    } while (position < fileData.byteLength);\n",
              "  }\n",
              "\n",
              "  // All done.\n",
              "  yield {\n",
              "    response: {\n",
              "      action: 'complete',\n",
              "    }\n",
              "  };\n",
              "}\n",
              "\n",
              "scope.google = scope.google || {};\n",
              "scope.google.colab = scope.google.colab || {};\n",
              "scope.google.colab._files = {\n",
              "  _uploadFiles,\n",
              "  _uploadFilesContinue,\n",
              "};\n",
              "})(self);\n",
              "</script> "
            ]
          },
          "metadata": {}
        },
        {
          "output_type": "stream",
          "name": "stdout",
          "text": [
            "Saving Dados_2024-2025 v2.xlsx to Dados_2024-2025 v2.xlsx\n"
          ]
        }
      ]
    },
    {
      "cell_type": "code",
      "source": [
        "#Lista planilhas do arquivo\n",
        "xls = pd.ExcelFile(file_path)\n",
        "print(\"Planilhas do arquivo:\")\n",
        "for sheet_name in xls.sheet_names:\n",
        "    print(sheet_name)"
      ],
      "metadata": {
        "colab": {
          "base_uri": "https://localhost:8080/"
        },
        "id": "oZHLN7QmFoXs",
        "outputId": "2cbb31a4-9221-47e1-e8f1-8e4aca40b21f"
      },
      "execution_count": 3,
      "outputs": [
        {
          "output_type": "stream",
          "name": "stdout",
          "text": [
            "Planilhas do arquivo:\n",
            "CTBA_2024\n",
            "CTBA_2025\n",
            "RM_2024\n",
            "1_SEM_2024_RM\n",
            "1_SEM_2025_RM\n",
            "2_SEM_2024_RM\n",
            "RM_2025\n",
            "GERAL_2024\n",
            "GERAL_2025\n"
          ]
        }
      ]
    },
    {
      "cell_type": "code",
      "source": [
        "#selecionar planilha\n",
        "base_2024 = ['CTBA_2024']\n",
        "base_2025 = ['CTBA_2025']"
      ],
      "metadata": {
        "id": "ckKlnF98Jd7J"
      },
      "execution_count": 4,
      "outputs": []
    },
    {
      "cell_type": "code",
      "source": [
        "# filtros por semestre\n",
        "semestre1_inicio, semestre1_fim = 1,6\n",
        "semestre2_inicio, semestre2_fim = 7,12\n"
      ],
      "metadata": {
        "id": "ut1wkEMMPPB5"
      },
      "execution_count": 5,
      "outputs": []
    },
    {
      "cell_type": "code",
      "source": [
        "# Ler apenas as planilhas selecionadas\n",
        "dt = pd.read_excel(file_path, sheet_name=base_2024)"
      ],
      "metadata": {
        "id": "a1QgpcaAIVKa"
      },
      "execution_count": 6,
      "outputs": []
    },
    {
      "cell_type": "code",
      "source": [
        "# Lista de crimes perigosos\n",
        "crimes_perigosos = [\n",
        "    'FURTO SIMPLES',\n",
        "    'FURTO QUALIFICADO',\n",
        "    'ROUBO',\n",
        "    'DROGAS PARA O CONSUMO PESSOAL',\n",
        "    'DANO',\n",
        "    'ROUBO AGRAVADO',\n",
        "    'VIOLACAO DE DOMICILIO',\n",
        "    'FURTO DE COISA COMUM',\n",
        "    'PORTE ILEGAL DE ARMA DE FOGO, ACESSORIO OU MUNICAO - USO PERMITIDO',\n",
        "    'EXTORSAO MEDIANTE SEQUESTRO',\n",
        "    'ROUBO COM RESULTADO DE LESAO CORPORAL GRAVE',\n",
        "    'COMERCIO ILEGAL DE ARMA DE FOGO'\n",
        "]\n",
        "\n",
        "df_crimes_perigosos = dt['CTBA_2024'][dt['CTBA_2024']['Natureza'].isin(crimes_perigosos)]\n",
        "\n"
      ],
      "metadata": {
        "id": "sQYLbe67kSZx"
      },
      "execution_count": 7,
      "outputs": []
    },
    {
      "cell_type": "code",
      "source": [
        "# Lista de tipos de furtos\n",
        "\n",
        "furtos = [\n",
        "    'FURTO SIMPLES', 'FURTO QUALIFICADO', 'FURTO DE COISA COMUM'\n",
        "]"
      ],
      "metadata": {
        "id": "bhnI8MeK-bTq"
      },
      "execution_count": 131,
      "outputs": []
    },
    {
      "cell_type": "code",
      "source": [
        "# Listar ranking de ocorrências em 2024\n",
        "ranking_geral_2024 = dt['CTBA_2024']['Natureza'].value_counts()\n",
        "print(ranking_geral_2024)\n",
        "print(\"\\nTotal de ocorrências: \",ranking_geral_2024.sum())"
      ],
      "metadata": {
        "colab": {
          "base_uri": "https://localhost:8080/"
        },
        "id": "Pdd6cBY3T-1f",
        "outputId": "00225482-39db-477a-cec5-43c0ff75a6fe"
      },
      "execution_count": 119,
      "outputs": [
        {
          "output_type": "stream",
          "name": "stdout",
          "text": [
            "Natureza\n",
            "FURTO SIMPLES                                                         36823\n",
            "FURTO QUALIFICADO                                                     10651\n",
            "PERTURBACAO DO TRABALHO OU SOSSEGO ALHEIO                             10406\n",
            "ROUBO                                                                  5365\n",
            "DROGAS PARA O CONSUMO PESSOAL                                          5080\n",
            "DANO                                                                   3805\n",
            "ROUBO AGRAVADO                                                         2253\n",
            "VIOLACAO DE DOMICILIO                                                  1575\n",
            "FURTO DE COISA COMUM                                                    683\n",
            "PORTE ILEGAL DE ARMA DE FOGO, ACESSORIO OU MUNICAO - USO PERMITIDO      152\n",
            "EXTORSAO MEDIANTE SEQUESTRO                                              34\n",
            "ROUBO COM RESULTADO DE LESAO CORPORAL GRAVE                              31\n",
            "COMERCIO ILEGAL DE ARMA DE FOGO                                           5\n",
            "Name: count, dtype: int64\n",
            "\n",
            "Total de ocorrências:  76863\n"
          ]
        }
      ]
    },
    {
      "cell_type": "code",
      "source": [
        "# Quantidade de crimes por bairro\n",
        "\n",
        "quantidade_crimes_bairros = dt['CTBA_2024']['Bairro'].value_counts().reset_index(name='Crimes')\n",
        "print(quantidade_crimes_bairros.head(10))"
      ],
      "metadata": {
        "colab": {
          "base_uri": "https://localhost:8080/"
        },
        "id": "3RIrzjMTsv-C",
        "outputId": "b192c060-faf1-484a-d13d-dc7efe12256d"
      },
      "execution_count": 101,
      "outputs": [
        {
          "output_type": "stream",
          "name": "stdout",
          "text": [
            "                          Bairro  Crimes\n",
            "0                         CENTRO   10732\n",
            "1  CIDADE INDUSTRIAL DE CURITIBA    5117\n",
            "2                  SITIO CERCADO    3699\n",
            "3                     AGUA VERDE    3153\n",
            "4                      BOQUEIRAO    2691\n",
            "5                      TATUQUARA    2683\n",
            "6                       REBOUCAS    2383\n",
            "7                    PINHEIRINHO    2203\n",
            "8                         PORTAO    2202\n",
            "9                         CAJURU    2069\n"
          ]
        }
      ]
    },
    {
      "cell_type": "code",
      "source": [
        "# Listar principal crime por bairro\n",
        "\n",
        "df = dt['CTBA_2024'][['Bairro', 'Natureza']]\n",
        "\n",
        "#                                    conta os campos\n",
        "contagem = df.value_counts(subset=['Bairro', 'Natureza']).reset_index(name='Contagem')\n",
        "\n",
        "#                                                       seleciona ultimo id\n",
        "principal_crime_bairro = contagem.loc[contagem.groupby('Bairro')['Contagem'].idxmax()].reset_index(drop=True)\n",
        "\n",
        "# Limita a coluna Natureza a 15 caracteres\n",
        "principal_crime_bairro['Natureza'] = principal_crime_bairro['Natureza'].str.slice(0, 15)\n",
        "\n",
        "# Ordena pelo número de ocorrências (decrescente) e pega os 3 primeiros\n",
        "ranking = principal_crime_bairro.sort_values(by='Contagem', ascending=False).head(50)\n",
        "\n",
        "print(ranking)\n"
      ],
      "metadata": {
        "colab": {
          "base_uri": "https://localhost:8080/"
        },
        "id": "_wP7gPVsfl9b",
        "outputId": "56aca4a4-2233-4a72-91b9-93270b761c42"
      },
      "execution_count": 99,
      "outputs": [
        {
          "output_type": "stream",
          "name": "stdout",
          "text": [
            "                           Bairro         Natureza  Contagem\n",
            "28                         CENTRO    FURTO SIMPLES      5863\n",
            "2                      AGUA VERDE    FURTO SIMPLES      1953\n",
            "55                       REBOUCAS    FURTO SIMPLES      1499\n",
            "16                      BOQUEIRAO    FURTO SIMPLES      1367\n",
            "31  CIDADE INDUSTRIAL DE CURITIBA    FURTO SIMPLES      1366\n",
            "53                         PORTAO    FURTO SIMPLES      1220\n",
            "67                  SITIO CERCADO  PERTURBACAO DO       1195\n",
            "12                          BATEL    FURTO SIMPLES      1142\n",
            "52                    PINHEIRINHO    FURTO SIMPLES       978\n",
            "20                         CAJURU    FURTO SIMPLES       904\n",
            "70                      TATUQUARA  PERTURBACAO DO        900\n",
            "72                        UBERABA    FURTO SIMPLES       874\n",
            "40                JARDIM BOTANICO    FURTO SIMPLES       735\n",
            "38                          HAUER    FURTO SIMPLES       724\n",
            "25                     CAPAO RASO    FURTO SIMPLES       668\n",
            "76                          XAXIM    FURTO SIMPLES       638\n",
            "48                     NOVO MUNDO    FURTO SIMPLES       636\n",
            "13                     BIGORRILHO    FURTO SIMPLES       618\n",
            "32                     CRISTO REI    FURTO SIMPLES       588\n",
            "62                  SAO FRANCISCO    FURTO SIMPLES       575\n",
            "6                      ALTO DA XV    FURTO SIMPLES       573\n",
            "41            JARDIM DAS AMERICAS    FURTO SIMPLES       550\n",
            "46                         MERCES    FURTO SIMPLES       471\n",
            "29                  CENTRO CIVICO    FURTO SIMPLES       463\n",
            "23               CAMPO DE SANTANA  PERTURBACAO DO        456\n",
            "9                       BACACHERI    FURTO SIMPLES       404\n",
            "34                     FAZENDINHA    FURTO SIMPLES       395\n",
            "58               SANTA FELICIDADE    FURTO SIMPLES       390\n",
            "5                  ALTO DA GLORIA    FURTO SIMPLES       388\n",
            "4                  ALTO BOQUEIRAO    FURTO SIMPLES       383\n",
            "18                         CABRAL    FURTO SIMPLES       376\n",
            "37                         GUAIRA    FURTO SIMPLES       372\n",
            "69                         TARUMA    FURTO SIMPLES       363\n",
            "14                      BOA VISTA    FURTO SIMPLES       363\n",
            "22                 CAMPO COMPRIDO    FURTO SIMPLES       362\n",
            "50                        PAROLIN    FURTO SIMPLES       361\n",
            "43                         JUVEVE    FURTO SIMPLES       339\n",
            "57                  SANTA CANDIDA    FURTO SIMPLES       335\n",
            "10                    BAIRRO ALTO    FURTO SIMPLES       331\n",
            "54                    PRADO VELHO    FURTO SIMPLES       329\n",
            "36                    GUABIROTUBA    FURTO SIMPLES       304\n",
            "47                      MOSSUNGUE    FURTO SIMPLES       292\n",
            "1                       ABRANCHES    FURTO SIMPLES       272\n",
            "51                     PILARZINHO    FURTO SIMPLES       271\n",
            "24                CAPAO DA IMBUIA    FURTO SIMPLES       270\n",
            "3                             AHU    FURTO SIMPLES       241\n",
            "61                       SAO BRAZ    FURTO SIMPLES       239\n",
            "74                    VILA IZABEL    FURTO SIMPLES       239\n",
            "39                     HUGO LANGE    FURTO SIMPLES       230\n",
            "21            CAMPINA DO SIQUEIRA    FURTO SIMPLES       228\n"
          ]
        }
      ]
    },
    {
      "cell_type": "code",
      "source": [
        "# Bairros com mais perturbacao do sossego\n",
        "\n",
        "crime = 'PERTURBACAO DO TRABALHO OU SOSSEGO ALHEIO'\n",
        "\n",
        "df_sequestro = df_crimes_perigosos[df_crimes_perigosos['Natureza'] == crime]\n",
        "\n",
        "df = dt['CTBA_2024'][['Bairro', 'Natureza']]\n",
        "\n",
        "#                                    #conta os campos\n",
        "contagem = df.value_counts(subset=['Bairro', 'Natureza']).reset_index(name='Contagem')\n",
        "\n",
        "#                                                        #seleciona ultimo id\n",
        "principal_crime_bairro = contagem.loc[contagem.groupby('Bairro')['Contagem'].idxmax()].reset_index(drop=True)\n",
        "\n",
        "# filtro das ocorrencias especificas do ultimo id selecionado\n",
        "filtro = principal_crime_bairro[principal_crime_bairro['Natureza'] == crime]\n",
        "\n",
        "# Limita a coluna Natureza a 15 caracteres\n",
        "filtro['Natureza'] = filtro['Natureza'].str.slice(0, 15)\n",
        "\n",
        "# Ordenar por ordem descrecente\n",
        "ranking = filtro.sort_values(by='Contagem', ascending=False)\n",
        "\n",
        "print(ranking)\n"
      ],
      "metadata": {
        "colab": {
          "base_uri": "https://localhost:8080/"
        },
        "id": "iSL1PXL1hlcQ",
        "outputId": "a628d784-91ae-46b9-de65-7de9c48580ec"
      },
      "execution_count": 25,
      "outputs": [
        {
          "output_type": "stream",
          "name": "stdout",
          "text": [
            "              Bairro         Natureza  Contagem\n",
            "67     SITIO CERCADO  PERTURBACAO DO       1195\n",
            "70         TATUQUARA  PERTURBACAO DO        900\n",
            "23  CAMPO DE SANTANA  PERTURBACAO DO        456\n",
            "35         GANCHINHO  PERTURBACAO DO        220\n",
            "27           CAXIMBA  PERTURBACAO DO         52\n",
            "8            AUGUSTA  PERTURBACAO DO         33\n",
            "65        SAO MIGUEL  PERTURBACAO DO         17\n"
          ]
        },
        {
          "output_type": "stream",
          "name": "stderr",
          "text": [
            "/tmp/ipython-input-1333758972.py:19: SettingWithCopyWarning: \n",
            "A value is trying to be set on a copy of a slice from a DataFrame.\n",
            "Try using .loc[row_indexer,col_indexer] = value instead\n",
            "\n",
            "See the caveats in the documentation: https://pandas.pydata.org/pandas-docs/stable/user_guide/indexing.html#returning-a-view-versus-a-copy\n",
            "  filtro['Natureza'] = filtro['Natureza'].str.slice(0, 15)\n"
          ]
        }
      ]
    },
    {
      "cell_type": "code",
      "source": [
        "# Ranking 10 bairros com mais ocorrências\n",
        "\n",
        "ranking_top10 = dt['CTBA_2024']['Bairro'].value_counts().reset_index(name='crimes')\n",
        "print(ranking_top10.head(10))\n"
      ],
      "metadata": {
        "colab": {
          "base_uri": "https://localhost:8080/"
        },
        "id": "06EER4PVrjwW",
        "outputId": "d7473c29-6d68-4b6f-cdfa-c83c5f7baae5"
      },
      "execution_count": null,
      "outputs": [
        {
          "output_type": "stream",
          "name": "stdout",
          "text": [
            "                          Bairro  crimes\n",
            "0                         CENTRO   10732\n",
            "1  CIDADE INDUSTRIAL DE CURITIBA    5117\n",
            "2                  SITIO CERCADO    3699\n",
            "3                     AGUA VERDE    3153\n",
            "4                      BOQUEIRAO    2691\n",
            "5                      TATUQUARA    2683\n",
            "6                       REBOUCAS    2383\n",
            "7                    PINHEIRINHO    2203\n",
            "8                         PORTAO    2202\n",
            "9                         CAJURU    2069\n"
          ]
        }
      ]
    },
    {
      "cell_type": "code",
      "source": [
        "# Ranking 10 bairros mais perigosos\n",
        "\n",
        "#Foi retirado o crime de pertubação de sossego\n",
        "\n",
        "df_bairros_perigosos = df_crimes_perigosos['Bairro'].value_counts().reset_index(name='crimes')\n",
        "df_bairros_perigosos.columns = ['Bairro', 'Crimes']\n",
        "\n",
        "# Exibe os 10 primeiros bairros\n",
        "print(df_bairros_perigosos.head(10))\n"
      ],
      "metadata": {
        "colab": {
          "base_uri": "https://localhost:8080/"
        },
        "id": "isMc5wOIUZoY",
        "outputId": "14b8562a-3cf9-483d-fc79-179a919a17b7"
      },
      "execution_count": null,
      "outputs": [
        {
          "output_type": "stream",
          "name": "stdout",
          "text": [
            "                          Bairro  Crimes\n",
            "0                         CENTRO   10366\n",
            "1  CIDADE INDUSTRIAL DE CURITIBA    3793\n",
            "2                     AGUA VERDE    3013\n",
            "3                  SITIO CERCADO    2504\n",
            "4                      BOQUEIRAO    2460\n",
            "5                       REBOUCAS    2299\n",
            "6                         PORTAO    2000\n",
            "7                         CAJURU    1785\n",
            "8                      TATUQUARA    1783\n",
            "9                    PINHEIRINHO    1733\n"
          ]
        }
      ]
    },
    {
      "cell_type": "code",
      "source": [
        "# Crimes por bairro - listar bairros centro, cic, agua verde, sitio cercado, boqueirao, reboucas, portao, cajuru, tatuquara, pinheirinho\n",
        "\n",
        "bairro = 'CENTRO'\n",
        "\n",
        "df_bairro = df_crimes_perigosos[df_crimes_perigosos['Bairro'] == bairro]\n",
        "\n",
        "ranking = df_bairro['Natureza'].value_counts().reset_index(name='crimes')\n",
        "print(ranking)\n",
        "\n"
      ],
      "metadata": {
        "colab": {
          "base_uri": "https://localhost:8080/"
        },
        "id": "JSYiRh8KyrwE",
        "outputId": "093711b8-ff0f-4a85-ecd7-6f34e093bad7"
      },
      "execution_count": 104,
      "outputs": [
        {
          "output_type": "stream",
          "name": "stdout",
          "text": [
            "                                             Natureza  crimes\n",
            "0                                       FURTO SIMPLES    5863\n",
            "1                                   FURTO QUALIFICADO    1426\n",
            "2                                               ROUBO    1139\n",
            "3                       DROGAS PARA O CONSUMO PESSOAL     996\n",
            "4                                      ROUBO AGRAVADO     462\n",
            "5                                                DANO     280\n",
            "6                                FURTO DE COISA COMUM     119\n",
            "7                               VIOLACAO DE DOMICILIO      55\n",
            "8         ROUBO COM RESULTADO DE LESAO CORPORAL GRAVE      14\n",
            "9   PORTE ILEGAL DE ARMA DE FOGO, ACESSORIO OU MUN...       7\n",
            "10                    COMERCIO ILEGAL DE ARMA DE FOGO       3\n",
            "11                        EXTORSAO MEDIANTE SEQUESTRO       2\n"
          ]
        }
      ]
    },
    {
      "cell_type": "code",
      "source": [
        "# Bairros com mais sequestros\n",
        "\n",
        "crime = 'EXTORSAO MEDIANTE SEQUESTRO'\n",
        "\n",
        "df = dt['CTBA_2024'][['Bairro', 'Natureza']]\n",
        "\n",
        "#                                    #conta os campos\n",
        "contagem = df.value_counts(subset=['Bairro', 'Natureza']).reset_index(name='Crimes')\n",
        "\n",
        "# selecionar crime\n",
        "filtro = contagem[contagem['Natureza'] == crime]\n",
        "\n",
        "# Ordenar por ordem descrecente\n",
        "ranking = filtro.sort_values(by='Crimes', ascending=False)\n",
        "\n",
        "print(ranking[['Bairro', 'Crimes']].head(10))\n",
        "print(ranking[['Crimes']].sum())\n"
      ],
      "metadata": {
        "id": "UOyNsT78eHVT",
        "outputId": "f25d0979-cc2e-4554-adfb-fb5261fe5a7b",
        "colab": {
          "base_uri": "https://localhost:8080/"
        }
      },
      "execution_count": 28,
      "outputs": [
        {
          "output_type": "stream",
          "name": "stdout",
          "text": [
            "                            Bairro  Crimes\n",
            "569                      TATUQUARA       5\n",
            "573                      BOA VISTA       5\n",
            "626  CIDADE INDUSTRIAL DE CURITIBA       3\n",
            "630               SANTA FELICIDADE       3\n",
            "637                          XAXIM       2\n",
            "638                        UBERABA       2\n",
            "648                         CENTRO       2\n",
            "666                  SAO FRANCISCO       2\n",
            "672                       REBOUCAS       1\n",
            "673                     NOVO MUNDO       1\n",
            "Crimes    34\n",
            "dtype: int64\n"
          ]
        }
      ]
    },
    {
      "cell_type": "code",
      "source": [
        "# Horário com mais sequestro\n",
        "\n",
        "crime = 'EXTORSAO MEDIANTE SEQUESTRO'\n",
        "\n",
        "# listar campos\n",
        "df = dt['CTBA_2024'][['Hora', 'Natureza']]\n",
        "\n",
        "# selecionar crime\n",
        "df_sequestro = df[df['Natureza'] == crime]\n",
        "\n",
        "#                    count do campo\n",
        "ranking = df_sequestro['Hora'].value_counts().reset_index(name='Crimes')\n",
        "ranking.columns = ['Hora', 'Crimes']\n",
        "\n",
        "# Ordenar por ordem descrecente\n",
        "ranking = ranking.sort_values(by='Crimes', ascending=False)\n",
        "\n",
        "print(ranking)\n"
      ],
      "metadata": {
        "id": "-ajCkkR1lGKo",
        "colab": {
          "base_uri": "https://localhost:8080/"
        },
        "outputId": "dca710eb-babb-4212-90d9-a5c88b21b4ae"
      },
      "execution_count": 29,
      "outputs": [
        {
          "output_type": "stream",
          "name": "stdout",
          "text": [
            "    Hora  Crimes\n",
            "0     10       4\n",
            "1      9       4\n",
            "2      8       4\n",
            "3     12       3\n",
            "4     13       3\n",
            "5     18       3\n",
            "6     14       2\n",
            "7     20       2\n",
            "8     11       2\n",
            "9      6       1\n",
            "10    16       1\n",
            "11    19       1\n",
            "12     3       1\n",
            "13    15       1\n",
            "14     4       1\n",
            "15    17       1\n"
          ]
        }
      ]
    },
    {
      "cell_type": "code",
      "source": [
        "# Dia da semana com mais sequestro\n",
        "\n",
        "crime = 'EXTORSAO MEDIANTE SEQUESTRO'\n",
        "\n",
        "# listar campos\n",
        "df = dt['CTBA_2024'][['Dia da Semana', 'Natureza']]\n",
        "\n",
        "# selecionar crime\n",
        "df_sequestro = df[df['Natureza'] == crime]\n",
        "\n",
        "#                    count do campo\n",
        "ranking = df_sequestro['Dia da Semana'].value_counts().reset_index(name='Crimes')\n",
        "ranking.columns = ['Dia da Semana', 'Crimes']\n",
        "\n",
        "# Ordenar por ordem descrecente\n",
        "ranking = ranking.sort_values(by='Crimes', ascending=False)\n",
        "\n",
        "print(ranking)\n"
      ],
      "metadata": {
        "colab": {
          "base_uri": "https://localhost:8080/"
        },
        "id": "yFI8X-vCtlgP",
        "outputId": "0bd119fe-6ad6-4c7b-a7b7-c71c266f3b3c"
      },
      "execution_count": 141,
      "outputs": [
        {
          "output_type": "stream",
          "name": "stdout",
          "text": [
            "  Dia da Semana  Crimes\n",
            "0           seg      10\n",
            "1           qua       7\n",
            "2           qui       6\n",
            "3           ter       6\n",
            "4           sex       4\n",
            "5           dom       1\n"
          ]
        }
      ]
    },
    {
      "cell_type": "code",
      "source": [
        "# Horário com mais sequestro\n",
        "\n",
        "crime = 'EXTORSAO MEDIANTE SEQUESTRO'\n",
        "\n",
        "# listar campos\n",
        "df = dt['CTBA_2024'][['Hora', 'Natureza']]\n",
        "\n",
        "# selecionar crime\n",
        "df_sequestro = df[df['Natureza'] == crime]\n",
        "\n",
        "def periodo(hora):\n",
        "  if 6 <= hora <= 11:\n",
        "    return 'Manhã'\n",
        "  elif 12 <= hora <= 17:\n",
        "    return 'Tarde'\n",
        "  else:\n",
        "    return 'Noite'\n",
        "\n",
        "# cria coluna faixa e aplica a função para o campo hora\n",
        "df_sequestro['Periodo'] = df_sequestro['Hora'].apply(periodo)\n",
        "\n",
        "#                           count do campo\n",
        "ranking_faixas = df_sequestro['Periodo'].value_counts().reset_index(name='Crimes')\n",
        "ranking_faixas.columns = ['Periodo', 'Crimes']\n",
        "\n",
        "# Ordenar por ordem descrecente\n",
        "ranking = ranking.sort_values(by='Crimes', ascending=False)\n",
        "\n",
        "print(ranking_faixas)\n"
      ],
      "metadata": {
        "colab": {
          "base_uri": "https://localhost:8080/"
        },
        "id": "MeA5CN0xPsq8",
        "outputId": "278a4510-00fa-4dd2-cdde-abd61aa08e30"
      },
      "execution_count": 30,
      "outputs": [
        {
          "output_type": "stream",
          "name": "stdout",
          "text": [
            "  Periodo  Crimes\n",
            "0   Manhã      15\n",
            "1   Tarde      11\n",
            "2   Noite       8\n"
          ]
        },
        {
          "output_type": "stream",
          "name": "stderr",
          "text": [
            "/tmp/ipython-input-862311131.py:20: SettingWithCopyWarning: \n",
            "A value is trying to be set on a copy of a slice from a DataFrame.\n",
            "Try using .loc[row_indexer,col_indexer] = value instead\n",
            "\n",
            "See the caveats in the documentation: https://pandas.pydata.org/pandas-docs/stable/user_guide/indexing.html#returning-a-view-versus-a-copy\n",
            "  df_sequestro['Periodo'] = df_sequestro['Hora'].apply(periodo)\n"
          ]
        }
      ]
    },
    {
      "cell_type": "code",
      "source": [
        "# Principal crime nos bairros contra moradias\n",
        "\n",
        "df = dt['CTBA_2024'][['Bairro', 'Natureza', 'Ambiente']]\n",
        "\n",
        "# Filtrar dano em ambientes residencias\n",
        "\n",
        "#                                 selecionar crime     copia os dados\n",
        "violacao = df[df['Natureza'] == 'VIOLACAO DE DOMICILIO'].copy()\n",
        "violacao['Crime'] = 'VIOLACAO DE DOMICILIO'\n",
        "\n",
        "#Filtrar violação de domicilio\n",
        "\n",
        "#                                           seleciona campos                        copia os dados\n",
        "dano_residencial = df[(df['Natureza'] == 'DANO') & (df['Ambiente'] == 'RESIDENCIA')].copy()\n",
        "dano_residencial['Crime'] = 'DANO'\n",
        "\n",
        "# adiciona os dois filtros\n",
        "crimes_moradias = pd.concat([violacao, dano_residencial])\n",
        "\n",
        "# lista os crimes com os dois filtros\n",
        "ranking = crimes_moradias.groupby(['Bairro', 'Crime']).size().reset_index(name='Crimes')\n",
        "crime_bairro = ranking.groupby('Bairro')['Crimes'].idxmax()\n",
        "\n",
        "ranking_crime_bairro = ranking.loc[crime_bairro].sort_values(by='Crimes', ascending=False)\n",
        "\n",
        "print(ranking_crime_bairro.head(20))\n",
        "\n"
      ],
      "metadata": {
        "colab": {
          "base_uri": "https://localhost:8080/"
        },
        "id": "4PbHlICfeYK3",
        "outputId": "913d3a04-4d9f-44a0-e2fe-942a954bd921"
      },
      "execution_count": 175,
      "outputs": [
        {
          "output_type": "stream",
          "name": "stdout",
          "text": [
            "                            Bairro                  Crime  Crimes\n",
            "126                  SITIO CERCADO  VIOLACAO DE DOMICILIO     133\n",
            "56   CIDADE INDUSTRIAL DE CURITIBA                   DANO     112\n",
            "37                          CAJURU                   DANO      99\n",
            "29                       BOQUEIRAO                   DANO      90\n",
            "133                        UBERABA                   DANO      77\n",
            "129                      TATUQUARA                   DANO      73\n",
            "53                          CENTRO  VIOLACAO DE DOMICILIO      55\n",
            "6                   ALTO BOQUEIRAO                   DANO      50\n",
            "43                CAMPO DE SANTANA                   DANO      49\n",
            "98                     PINHEIRINHO  VIOLACAO DE DOMICILIO      49\n",
            "17                     BAIRRO ALTO                   DANO      46\n",
            "90                      NOVO MUNDO  VIOLACAO DE DOMICILIO      46\n",
            "105                  SANTA CANDIDA                   DANO      45\n",
            "100                         PORTAO  VIOLACAO DE DOMICILIO      35\n",
            "3                       AGUA VERDE  VIOLACAO DE DOMICILIO      33\n",
            "104                       REBOUCAS  VIOLACAO DE DOMICILIO      32\n",
            "48                      CAPAO RASO  VIOLACAO DE DOMICILIO      29\n",
            "69                          GUAIRA  VIOLACAO DE DOMICILIO      29\n",
            "141                          XAXIM                   DANO      28\n",
            "136                         UMBARA  VIOLACAO DE DOMICILIO      26\n"
          ]
        }
      ]
    },
    {
      "cell_type": "code",
      "source": [
        "# Bairros com mais crimes contra moradias\n",
        "\n",
        "# selecionado perturbação de sossego e dano em residencia\n",
        "\n",
        "df = dt['CTBA_2024'][['Bairro', 'Natureza', 'Ambiente']]\n",
        "\n",
        "# Filtrar dano em ambientes residencias\n",
        "\n",
        "#                                 selecionar crime     copia os dados\n",
        "violacao = df[df['Natureza'] == 'VIOLACAO DE DOMICILIO'].copy()\n",
        "violacao['Crime'] = 'VIOLACAO DE DOMICILIO'\n",
        "\n",
        "#Filtrar violação de domicilio\n",
        "\n",
        "#                                           seleciona campos                        copia os dados\n",
        "dano_residencial = df[(df['Natureza'] == 'DANO') & (df['Ambiente'] == 'RESIDENCIA')].copy()\n",
        "dano_residencial['Crime'] = 'DANO'\n",
        "\n",
        "# adiciona os dois filtros\n",
        "crimes_moradias = pd.concat([violacao, dano_residencial])\n",
        "\n",
        "# lista os crimes com os dois filtros\n",
        "ranking = crimes_moradias.groupby(['Bairro']).size().reset_index(name='Crimes')\n",
        "ranking = ranking.sort_values(by='Crimes', ascending=False)\n",
        "\n",
        "print(ranking.iloc[30:65])\n",
        "\n"
      ],
      "metadata": {
        "colab": {
          "base_uri": "https://localhost:8080/"
        },
        "id": "Of_CHNjGSABw",
        "outputId": "b7eeb6ae-93c9-44fe-9591-a1cbea18b1af"
      },
      "execution_count": 33,
      "outputs": [
        {
          "output_type": "stream",
          "name": "stdout",
          "text": [
            "                 Bairro  Crimes\n",
            "39  JARDIM DAS AMERICAS      31\n",
            "49           PILARZINHO      29\n",
            "21       CAMPO COMPRIDO      28\n",
            "43              LINDOIA      27\n",
            "38      JARDIM BOTANICO      26\n",
            "0             ABRANCHES      26\n",
            "30           CRISTO REI      23\n",
            "56       SANTA QUITERIA      23\n",
            "11                BATEL      23\n",
            "34          GUABIROTUBA      23\n",
            "12           BIGORRILHO      22\n",
            "48              PAROLIN      22\n",
            "52          PRADO VELHO      21\n",
            "71         VISTA ALEGRE      21\n",
            "44               MERCES      21\n",
            "59        SAO FRANCISCO      19\n",
            "10          BARREIRINHA      18\n",
            "4        ALTO DA GLORIA      18\n",
            "61         SAO LOURENCO      17\n",
            "31                FANNY      17\n",
            "18            CACHOEIRA      16\n",
            "16         BUTIATUVINHA      15\n",
            "41               JUVEVE      15\n",
            "37           HUGO LANGE      15\n",
            "2                   AHU      13\n",
            "65               TARUMA      13\n",
            "63            SEMINARIO      13\n",
            "14           BOM RETIRO      12\n",
            "67               TINGUI      12\n",
            "57         SANTO INACIO      12\n",
            "45            MOSSUNGUE      10\n",
            "70          VILA IZABEL       9\n",
            "40        JARDIM SOCIAL       9\n",
            "47              ORLEANS       8\n",
            "20  CAMPINA DO SIQUEIRA       8\n"
          ]
        }
      ]
    },
    {
      "cell_type": "code",
      "source": [
        "# Periodo de crimes contra moradias\n",
        "\n",
        "df = dt['CTBA_2024'][['Bairro', 'Natureza', 'Hora', 'Ambiente']]\n",
        "\n",
        "# Filtrar dano em ambientes residencias\n",
        "\n",
        "#                                 selecionar crime     copia os dados\n",
        "violacao = df[df['Natureza'] == 'VIOLACAO DE DOMICILIO'].copy()\n",
        "violacao['Crime'] = 'VIOLACAO DE DOMICILIO'\n",
        "\n",
        "#Filtrar violação de domicilio\n",
        "\n",
        "#                                           seleciona campos                        copia os dados\n",
        "dano_residencial = df[(df['Natureza'] == 'DANO') & (df['Ambiente'] == 'RESIDENCIA')].copy()\n",
        "dano_residencial['Crime'] = 'DANO'\n",
        "\n",
        "# adiciona os dois filtros\n",
        "crimes_moradias = pd.concat([violacao, dano_residencial])\n",
        "\n",
        "def periodo(hora):\n",
        "  if 6 <= hora <= 11:\n",
        "    return 'Manhã'\n",
        "  elif 12 <= hora <= 17:\n",
        "    return 'Tarde'\n",
        "  else:\n",
        "    return 'Noite'\n",
        "\n",
        "# cria coluna periodo\n",
        "crimes_moradias['Periodo'] = crimes_moradias['Hora'].apply(periodo)\n",
        "\n",
        "# Contagem de crimes por período\n",
        "ranking_periodo = crimes_moradias.groupby('Periodo').size().reset_index(name='Crimes')\n",
        "\n",
        "# Ordena do período com mais crimes para o menor\n",
        "ranking_periodo = ranking_periodo.sort_values(by='Crimes', ascending=False)\n",
        "\n",
        "# Mostra os resultados\n",
        "print(ranking_periodo)"
      ],
      "metadata": {
        "colab": {
          "base_uri": "https://localhost:8080/"
        },
        "id": "NB4XsgwW5nq2",
        "outputId": "bfc8113f-7a61-45d0-af36-15fc2874e2c9"
      },
      "execution_count": 34,
      "outputs": [
        {
          "output_type": "stream",
          "name": "stdout",
          "text": [
            "  Periodo  Crimes\n",
            "1   Noite    1599\n",
            "2   Tarde     775\n",
            "0   Manhã     678\n"
          ]
        }
      ]
    },
    {
      "cell_type": "code",
      "source": [
        "# Principal horário de crimes contra moradias\n",
        "\n",
        "df = dt['CTBA_2024'][['Bairro', 'Natureza', 'Hora', 'Ambiente']]\n",
        "\n",
        "# Filtrar dano em ambientes residencias\n",
        "\n",
        "#                                 selecionar crime     copia os dados\n",
        "violacao = df[df['Natureza'] == 'VIOLACAO DE DOMICILIO'].copy()\n",
        "violacao['Crime'] = 'VIOLACAO DE DOMICILIO'\n",
        "\n",
        "#Filtrar violação de domicilio\n",
        "\n",
        "#                                           seleciona campos                        copia os dados\n",
        "dano_residencial = df[(df['Natureza'] == 'DANO') & (df['Ambiente'] == 'RESIDENCIA')].copy()\n",
        "dano_residencial['Crime'] = 'DANO'\n",
        "\n",
        "# adiciona os dois filtros\n",
        "crimes_moradias = pd.concat([violacao, dano_residencial])\n",
        "\n",
        "# lista os crimes com os dois filtros\n",
        "ranking_horarios = crimes_moradias.groupby(['Hora']).size().reset_index(name='Crimes')\n",
        "\n",
        "# Ordena do horário com mais crimes para o menor\n",
        "ranking_horarios = ranking_horarios.sort_values(by='Crimes', ascending=False)\n",
        "\n",
        "# Mostra os 5 horários com mais crimes\n",
        "print(ranking_horarios.head(5))\n"
      ],
      "metadata": {
        "colab": {
          "base_uri": "https://localhost:8080/"
        },
        "id": "VS0PcT7ZmPyv",
        "outputId": "a22d75cc-ea57-4038-d7b2-9ca06ba7603a"
      },
      "execution_count": 53,
      "outputs": [
        {
          "output_type": "stream",
          "name": "stdout",
          "text": [
            "Hora       276\n",
            "Crimes    3052\n",
            "dtype: int64\n"
          ]
        }
      ]
    },
    {
      "cell_type": "code",
      "source": [
        "# Principal dia da semana de crimes contra moradias\n",
        "\n",
        "df = dt['CTBA_2024'][['Bairro', 'Natureza', 'Dia da Semana', 'Ambiente']]\n",
        "\n",
        "# Filtrar dano em ambientes residencias\n",
        "\n",
        "#                                 selecionar crime     copia os dados\n",
        "violacao = df[df['Natureza'] == 'VIOLACAO DE DOMICILIO'].copy()\n",
        "violacao['Crime'] = 'VIOLACAO DE DOMICILIO'\n",
        "\n",
        "#Filtrar violação de domicilio\n",
        "\n",
        "#                                           seleciona campos                        copia os dados\n",
        "dano_residencial = df[(df['Natureza'] == 'DANO') & (df['Ambiente'] == 'RESIDENCIA')].copy()\n",
        "dano_residencial['Crime'] = 'DANO'\n",
        "\n",
        "# adiciona os dois filtros\n",
        "crimes_moradias = pd.concat([violacao, dano_residencial])\n",
        "\n",
        "# lista os crimes com os dois filtros\n",
        "ranking_dia_semana = crimes_moradias.groupby(['Dia da Semana']).size().reset_index(name='Crimes')\n",
        "\n",
        "# Ordena do horário com mais crimes para o menor\n",
        "ranking_semana = ranking_dia_semana.sort_values(by='Crimes', ascending=False)\n",
        "\n",
        "# Mostra os 20 horários com mais crimes\n",
        "print(ranking_semana)\n"
      ],
      "metadata": {
        "colab": {
          "base_uri": "https://localhost:8080/"
        },
        "id": "lniqYsO2pkHG",
        "outputId": "91f17b9c-9660-4265-83c0-d7294cbb8dc2"
      },
      "execution_count": 62,
      "outputs": [
        {
          "output_type": "stream",
          "name": "stdout",
          "text": [
            "  Dia da Semana  Crimes\n",
            "0           dom     560\n",
            "3           seg     475\n",
            "1           qua     428\n",
            "5           sáb     411\n",
            "4           sex     403\n",
            "6           ter     393\n",
            "2           qui     382\n"
          ]
        }
      ]
    },
    {
      "cell_type": "code",
      "source": [
        "# Principal crime por dia da semana\n",
        "\n",
        "df = dt['CTBA_2024'][['Dia da Semana', 'Natureza']]\n",
        "\n",
        "#                                    conta os campos\n",
        "contagem = df.value_counts(subset=['Dia da Semana', 'Natureza']).reset_index(name='Contagem')\n",
        "\n",
        "#                                                       seleciona ultimo id\n",
        "principal_crime_dia_semana = contagem.loc[contagem.groupby('Dia da Semana')['Contagem'].idxmax()].reset_index(drop=True)\n",
        "\n",
        "# Limita a coluna Natureza a 15 caracteres\n",
        "principal_crime_dia_semana['Natureza'] = principal_crime_dia_semana['Natureza'].str.slice(0, 15)\n",
        "\n",
        "# Ordena pelo número de ocorrências (decrescente) e pega os 3 primeiros\n",
        "ranking = principal_crime_dia_semana.sort_values(by='Contagem', ascending=False).head(50)\n",
        "\n",
        "print(ranking)\n"
      ],
      "metadata": {
        "id": "DlOHHj8jNcS_",
        "outputId": "155c1caf-7fac-4a33-c6a2-bf1eb0dd31dc",
        "colab": {
          "base_uri": "https://localhost:8080/"
        }
      },
      "execution_count": 105,
      "outputs": [
        {
          "output_type": "stream",
          "name": "stdout",
          "text": [
            "  Dia da Semana       Natureza  Contagem\n",
            "4           sex  FURTO SIMPLES      5832\n",
            "1           qua  FURTO SIMPLES      5760\n",
            "6           ter  FURTO SIMPLES      5664\n",
            "3           seg  FURTO SIMPLES      5555\n",
            "2           qui  FURTO SIMPLES      5490\n",
            "5           sáb  FURTO SIMPLES      4673\n",
            "0           dom  FURTO SIMPLES      3849\n"
          ]
        }
      ]
    },
    {
      "cell_type": "code",
      "source": [
        "# Dia da semana que tem mais cada crime\n",
        "\n",
        "df = dt['CTBA_2024'][['Dia da Semana', 'Natureza']]\n",
        "\n",
        "#                                    #conta os campos\n",
        "contagem = df.value_counts(subset=['Natureza', 'Dia da Semana']).reset_index(name='Contagem')\n",
        "\n",
        "#                                                        #seleciona ultimo id\n",
        "principal_crime_dia = contagem.loc[contagem.groupby('Natureza')['Contagem'].idxmax()].reset_index(drop=True)\n",
        "\n",
        "# Limita a coluna Natureza a 15 caracteres\n",
        "principal_crime_dia['Natureza'] = principal_crime_dia['Natureza'].str.slice(0, 15)\n",
        "\n",
        "# Ordenar por ordem descrecente\n",
        "ranking = principal_crime_dia.sort_values(by='Contagem', ascending=False)\n",
        "\n",
        "print(ranking)\n",
        "\n"
      ],
      "metadata": {
        "id": "pb7Qx0cjxxbh",
        "outputId": "c3c1de0e-249f-43d0-ed88-bfbb90607ac5",
        "colab": {
          "base_uri": "https://localhost:8080/"
        }
      },
      "execution_count": 114,
      "outputs": [
        {
          "output_type": "stream",
          "name": "stdout",
          "text": [
            "           Natureza Dia da Semana  Contagem\n",
            "6     FURTO SIMPLES           sex      5832\n",
            "7   PERTURBACAO DO            sáb      3411\n",
            "5   FURTO QUALIFICA           ter      1769\n",
            "9             ROUBO           ter       828\n",
            "2   DROGAS PARA O C           qui       816\n",
            "1              DANO           dom       656\n",
            "10   ROUBO AGRAVADO           sex       373\n",
            "12  VIOLACAO DE DOM           dom       267\n",
            "4   FURTO DE COISA            qui       126\n",
            "8   PORTE ILEGAL DE           ter        27\n",
            "3   EXTORSAO MEDIAN           seg        10\n",
            "11  ROUBO COM RESUL           sáb         7\n",
            "0   COMERCIO ILEGAL           qua         3\n"
          ]
        }
      ]
    },
    {
      "cell_type": "code",
      "source": [
        "# Ocorrências por tipos de roubos\n",
        "\n",
        "df_tipo_furtos = dt['CTBA_2024'][dt['CTBA_2024']['Natureza'].isin(furtos)]\n",
        "\n",
        "# Conta ocorrências por tipo de crime e transforma em DataFrame\n",
        "df_tipo_furtos = df_tipo_furtos['Natureza'].value_counts().reset_index(name='crimes')\n",
        "\n",
        "# Renomeia colunas\n",
        "df_tipo_furtos.columns = ['Natureza', 'crimes']\n",
        "\n",
        "# Exibe o resultado\n",
        "print(df_tipo_furtos)"
      ],
      "metadata": {
        "id": "3lEb2WER9PLS",
        "outputId": "ce39b7b5-3223-4c87-fbb1-fc90c4ec09fc",
        "colab": {
          "base_uri": "https://localhost:8080/"
        }
      },
      "execution_count": 142,
      "outputs": [
        {
          "output_type": "stream",
          "name": "stdout",
          "text": [
            "               Natureza  crimes\n",
            "0         FURTO SIMPLES   36823\n",
            "1     FURTO QUALIFICADO   10651\n",
            "2  FURTO DE COISA COMUM     683\n"
          ]
        }
      ]
    }
  ]
}