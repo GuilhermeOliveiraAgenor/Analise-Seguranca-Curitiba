{
  "nbformat": 4,
  "nbformat_minor": 0,
  "metadata": {
    "colab": {
      "provenance": [],
      "include_colab_link": true
    },
    "kernelspec": {
      "name": "python3",
      "display_name": "Python 3"
    },
    "language_info": {
      "name": "python"
    }
  },
  "cells": [
    {
      "cell_type": "markdown",
      "metadata": {
        "id": "view-in-github",
        "colab_type": "text"
      },
      "source": [
        "<a href=\"https://colab.research.google.com/github/GuilhermeOliveiraAgenor/Analise-Seguranca-Curitiba/blob/feature%2Fguilherme/analise_seguran%C3%A7a_guilherme.ipynb\" target=\"_parent\"><img src=\"https://colab.research.google.com/assets/colab-badge.svg\" alt=\"Open In Colab\"/></a>"
      ]
    },
    {
      "cell_type": "code",
      "source": [
        "from google.colab import files\n",
        "import pandas as pd\n",
        "\n",
        "# Faz upload do arquivo do seu PC\n",
        "uploaded = files.upload()\n",
        "\n",
        "# Pega o nome do arquivo enviado\n",
        "file_path = list(uploaded.keys())[0]\n"
      ],
      "metadata": {
        "id": "LotOrqPPEYLV",
        "colab": {
          "base_uri": "https://localhost:8080/",
          "height": 71
        },
        "outputId": "1b3a6340-e18e-4eb7-bfd5-ffaf47f94d4a"
      },
      "execution_count": null,
      "outputs": [
        {
          "output_type": "display_data",
          "data": {
            "text/plain": [
              "<IPython.core.display.HTML object>"
            ],
            "text/html": [
              "\n",
              "     <input type=\"file\" id=\"files-e3790f01-0121-4dc6-883c-dd4ce25ca71a\" name=\"files[]\" multiple disabled\n",
              "        style=\"border:none\" />\n",
              "     <output id=\"result-e3790f01-0121-4dc6-883c-dd4ce25ca71a\">\n",
              "      Upload widget is only available when the cell has been executed in the\n",
              "      current browser session. Please rerun this cell to enable.\n",
              "      </output>\n",
              "      <script>// Copyright 2017 Google LLC\n",
              "//\n",
              "// Licensed under the Apache License, Version 2.0 (the \"License\");\n",
              "// you may not use this file except in compliance with the License.\n",
              "// You may obtain a copy of the License at\n",
              "//\n",
              "//      http://www.apache.org/licenses/LICENSE-2.0\n",
              "//\n",
              "// Unless required by applicable law or agreed to in writing, software\n",
              "// distributed under the License is distributed on an \"AS IS\" BASIS,\n",
              "// WITHOUT WARRANTIES OR CONDITIONS OF ANY KIND, either express or implied.\n",
              "// See the License for the specific language governing permissions and\n",
              "// limitations under the License.\n",
              "\n",
              "/**\n",
              " * @fileoverview Helpers for google.colab Python module.\n",
              " */\n",
              "(function(scope) {\n",
              "function span(text, styleAttributes = {}) {\n",
              "  const element = document.createElement('span');\n",
              "  element.textContent = text;\n",
              "  for (const key of Object.keys(styleAttributes)) {\n",
              "    element.style[key] = styleAttributes[key];\n",
              "  }\n",
              "  return element;\n",
              "}\n",
              "\n",
              "// Max number of bytes which will be uploaded at a time.\n",
              "const MAX_PAYLOAD_SIZE = 100 * 1024;\n",
              "\n",
              "function _uploadFiles(inputId, outputId) {\n",
              "  const steps = uploadFilesStep(inputId, outputId);\n",
              "  const outputElement = document.getElementById(outputId);\n",
              "  // Cache steps on the outputElement to make it available for the next call\n",
              "  // to uploadFilesContinue from Python.\n",
              "  outputElement.steps = steps;\n",
              "\n",
              "  return _uploadFilesContinue(outputId);\n",
              "}\n",
              "\n",
              "// This is roughly an async generator (not supported in the browser yet),\n",
              "// where there are multiple asynchronous steps and the Python side is going\n",
              "// to poll for completion of each step.\n",
              "// This uses a Promise to block the python side on completion of each step,\n",
              "// then passes the result of the previous step as the input to the next step.\n",
              "function _uploadFilesContinue(outputId) {\n",
              "  const outputElement = document.getElementById(outputId);\n",
              "  const steps = outputElement.steps;\n",
              "\n",
              "  const next = steps.next(outputElement.lastPromiseValue);\n",
              "  return Promise.resolve(next.value.promise).then((value) => {\n",
              "    // Cache the last promise value to make it available to the next\n",
              "    // step of the generator.\n",
              "    outputElement.lastPromiseValue = value;\n",
              "    return next.value.response;\n",
              "  });\n",
              "}\n",
              "\n",
              "/**\n",
              " * Generator function which is called between each async step of the upload\n",
              " * process.\n",
              " * @param {string} inputId Element ID of the input file picker element.\n",
              " * @param {string} outputId Element ID of the output display.\n",
              " * @return {!Iterable<!Object>} Iterable of next steps.\n",
              " */\n",
              "function* uploadFilesStep(inputId, outputId) {\n",
              "  const inputElement = document.getElementById(inputId);\n",
              "  inputElement.disabled = false;\n",
              "\n",
              "  const outputElement = document.getElementById(outputId);\n",
              "  outputElement.innerHTML = '';\n",
              "\n",
              "  const pickedPromise = new Promise((resolve) => {\n",
              "    inputElement.addEventListener('change', (e) => {\n",
              "      resolve(e.target.files);\n",
              "    });\n",
              "  });\n",
              "\n",
              "  const cancel = document.createElement('button');\n",
              "  inputElement.parentElement.appendChild(cancel);\n",
              "  cancel.textContent = 'Cancel upload';\n",
              "  const cancelPromise = new Promise((resolve) => {\n",
              "    cancel.onclick = () => {\n",
              "      resolve(null);\n",
              "    };\n",
              "  });\n",
              "\n",
              "  // Wait for the user to pick the files.\n",
              "  const files = yield {\n",
              "    promise: Promise.race([pickedPromise, cancelPromise]),\n",
              "    response: {\n",
              "      action: 'starting',\n",
              "    }\n",
              "  };\n",
              "\n",
              "  cancel.remove();\n",
              "\n",
              "  // Disable the input element since further picks are not allowed.\n",
              "  inputElement.disabled = true;\n",
              "\n",
              "  if (!files) {\n",
              "    return {\n",
              "      response: {\n",
              "        action: 'complete',\n",
              "      }\n",
              "    };\n",
              "  }\n",
              "\n",
              "  for (const file of files) {\n",
              "    const li = document.createElement('li');\n",
              "    li.append(span(file.name, {fontWeight: 'bold'}));\n",
              "    li.append(span(\n",
              "        `(${file.type || 'n/a'}) - ${file.size} bytes, ` +\n",
              "        `last modified: ${\n",
              "            file.lastModifiedDate ? file.lastModifiedDate.toLocaleDateString() :\n",
              "                                    'n/a'} - `));\n",
              "    const percent = span('0% done');\n",
              "    li.appendChild(percent);\n",
              "\n",
              "    outputElement.appendChild(li);\n",
              "\n",
              "    const fileDataPromise = new Promise((resolve) => {\n",
              "      const reader = new FileReader();\n",
              "      reader.onload = (e) => {\n",
              "        resolve(e.target.result);\n",
              "      };\n",
              "      reader.readAsArrayBuffer(file);\n",
              "    });\n",
              "    // Wait for the data to be ready.\n",
              "    let fileData = yield {\n",
              "      promise: fileDataPromise,\n",
              "      response: {\n",
              "        action: 'continue',\n",
              "      }\n",
              "    };\n",
              "\n",
              "    // Use a chunked sending to avoid message size limits. See b/62115660.\n",
              "    let position = 0;\n",
              "    do {\n",
              "      const length = Math.min(fileData.byteLength - position, MAX_PAYLOAD_SIZE);\n",
              "      const chunk = new Uint8Array(fileData, position, length);\n",
              "      position += length;\n",
              "\n",
              "      const base64 = btoa(String.fromCharCode.apply(null, chunk));\n",
              "      yield {\n",
              "        response: {\n",
              "          action: 'append',\n",
              "          file: file.name,\n",
              "          data: base64,\n",
              "        },\n",
              "      };\n",
              "\n",
              "      let percentDone = fileData.byteLength === 0 ?\n",
              "          100 :\n",
              "          Math.round((position / fileData.byteLength) * 100);\n",
              "      percent.textContent = `${percentDone}% done`;\n",
              "\n",
              "    } while (position < fileData.byteLength);\n",
              "  }\n",
              "\n",
              "  // All done.\n",
              "  yield {\n",
              "    response: {\n",
              "      action: 'complete',\n",
              "    }\n",
              "  };\n",
              "}\n",
              "\n",
              "scope.google = scope.google || {};\n",
              "scope.google.colab = scope.google.colab || {};\n",
              "scope.google.colab._files = {\n",
              "  _uploadFiles,\n",
              "  _uploadFilesContinue,\n",
              "};\n",
              "})(self);\n",
              "</script> "
            ]
          },
          "metadata": {}
        },
        {
          "output_type": "stream",
          "name": "stdout",
          "text": [
            "Saving Dados_2024-2025 v2.xlsx to Dados_2024-2025 v2.xlsx\n"
          ]
        }
      ]
    },
    {
      "cell_type": "code",
      "source": [
        "#Lista planilhas do arquivo\n",
        "xls = pd.ExcelFile(file_path)\n",
        "print(\"Planilhas do arquivo:\")\n",
        "for sheet_name in xls.sheet_names:\n",
        "    print(sheet_name)"
      ],
      "metadata": {
        "colab": {
          "base_uri": "https://localhost:8080/"
        },
        "id": "oZHLN7QmFoXs",
        "outputId": "8b4f684d-c30d-48fa-d01a-d0d47ae60e65"
      },
      "execution_count": null,
      "outputs": [
        {
          "output_type": "stream",
          "name": "stdout",
          "text": [
            "Planilhas do arquivo:\n",
            "CTBA_2024\n",
            "CTBA_2025\n",
            "RM_2024\n",
            "1_SEM_2024_RM\n",
            "1_SEM_2025_RM\n",
            "2_SEM_2024_RM\n",
            "RM_2025\n",
            "GERAL_2024\n",
            "GERAL_2025\n"
          ]
        }
      ]
    },
    {
      "cell_type": "code",
      "source": [
        "#selecionar planilha\n",
        "base_2024 = ['CTBA_2024']\n",
        "base_2025 = ['CTBA_2025']"
      ],
      "metadata": {
        "id": "ckKlnF98Jd7J"
      },
      "execution_count": null,
      "outputs": []
    },
    {
      "cell_type": "code",
      "source": [
        "# filtros por semestre\n",
        "semestre1_inicio, semestre1_fim = 1,6\n",
        "semestre2_inicio, semestre2_fim = 7,12\n"
      ],
      "metadata": {
        "id": "ut1wkEMMPPB5"
      },
      "execution_count": null,
      "outputs": []
    },
    {
      "cell_type": "code",
      "source": [
        "# Ler apenas as planilhas selecionadas\n",
        "dt = pd.read_excel(file_path, sheet_name=base_2024)"
      ],
      "metadata": {
        "id": "a1QgpcaAIVKa"
      },
      "execution_count": null,
      "outputs": []
    },
    {
      "cell_type": "code",
      "source": [
        "# Listar ranking de crimes em 2024\n",
        "ranking_geral_2024 = dt['CTBA_2024']['Natureza'].value_counts()\n",
        "print(ranking_geral_2024)\n"
      ],
      "metadata": {
        "colab": {
          "base_uri": "https://localhost:8080/"
        },
        "id": "Pdd6cBY3T-1f",
        "outputId": "71eb2646-da22-441d-ae70-4e2bf3e21e37"
      },
      "execution_count": null,
      "outputs": [
        {
          "output_type": "stream",
          "name": "stdout",
          "text": [
            "Natureza\n",
            "FURTO SIMPLES                                                         36823\n",
            "FURTO QUALIFICADO                                                     10651\n",
            "PERTURBACAO DO TRABALHO OU SOSSEGO ALHEIO                             10406\n",
            "ROUBO                                                                  5365\n",
            "DROGAS PARA O CONSUMO PESSOAL                                          5080\n",
            "DANO                                                                   3805\n",
            "ROUBO AGRAVADO                                                         2253\n",
            "VIOLACAO DE DOMICILIO                                                  1575\n",
            "FURTO DE COISA COMUM                                                    683\n",
            "PORTE ILEGAL DE ARMA DE FOGO, ACESSORIO OU MUNICAO - USO PERMITIDO      152\n",
            "EXTORSAO MEDIANTE SEQUESTRO                                              34\n",
            "ROUBO COM RESULTADO DE LESAO CORPORAL GRAVE                              31\n",
            "COMERCIO ILEGAL DE ARMA DE FOGO                                           5\n",
            "Name: count, dtype: int64\n"
          ]
        }
      ]
    },
    {
      "cell_type": "code",
      "source": [
        "# Filtrar por semestre\n",
        "df_filtro_1_semestre = {\n",
        "    name: df[\n",
        "        (pd.to_datetime(df['Mês'], format='%b', errors='coerce').dt.month >= semestre1_inicio) &\n",
        "        (pd.to_datetime(df['Mês'], format='%b', errors='coerce').dt.month <= semestre1_fim)\n",
        "    ]\n",
        "    for name, df in dt.items()\n",
        "}"
      ],
      "metadata": {
        "id": "DqQ4uQ7EwnJu"
      },
      "execution_count": null,
      "outputs": []
    },
    {
      "cell_type": "code",
      "source": [
        "# Listar principal crime por bairro\n",
        "\n",
        "df = dt['CTBA_2024'][['Bairro', 'Natureza']]\n",
        "\n",
        "#                                    conta os campos\n",
        "contagem = df.value_counts(subset=['Bairro', 'Natureza']).reset_index(name='Contagem')\n",
        "\n",
        "#                                                       seleciona ultimo id\n",
        "principal_crime_bairro = contagem.loc[contagem.groupby('Bairro')['Contagem'].idxmax()].reset_index(drop=True)\n",
        "\n",
        "# Limita a coluna Natureza a 15 caracteres\n",
        "principal_crime_bairro['Natureza'] = principal_crime_bairro['Natureza'].str.slice(0, 15)\n",
        "\n",
        "# Ordena pelo número de ocorrências (decrescente) e pega os 3 primeiros\n",
        "ranking = principal_crime_bairro.sort_values(by='Contagem', ascending=False).head(50)\n",
        "\n",
        "print(ranking)\n"
      ],
      "metadata": {
        "id": "_wP7gPVsfl9b",
        "outputId": "a423ef42-2942-4ce3-c08b-e1d9455fc8d7",
        "colab": {
          "base_uri": "https://localhost:8080/"
        }
      },
      "execution_count": null,
      "outputs": [
        {
          "output_type": "stream",
          "name": "stdout",
          "text": [
            "                           Bairro         Natureza  Contagem\n",
            "28                         CENTRO    FURTO SIMPLES      5863\n",
            "2                      AGUA VERDE    FURTO SIMPLES      1953\n",
            "55                       REBOUCAS    FURTO SIMPLES      1499\n",
            "16                      BOQUEIRAO    FURTO SIMPLES      1367\n",
            "31  CIDADE INDUSTRIAL DE CURITIBA    FURTO SIMPLES      1366\n",
            "53                         PORTAO    FURTO SIMPLES      1220\n",
            "67                  SITIO CERCADO  PERTURBACAO DO       1195\n",
            "12                          BATEL    FURTO SIMPLES      1142\n",
            "52                    PINHEIRINHO    FURTO SIMPLES       978\n",
            "20                         CAJURU    FURTO SIMPLES       904\n",
            "70                      TATUQUARA  PERTURBACAO DO        900\n",
            "72                        UBERABA    FURTO SIMPLES       874\n",
            "40                JARDIM BOTANICO    FURTO SIMPLES       735\n",
            "38                          HAUER    FURTO SIMPLES       724\n",
            "25                     CAPAO RASO    FURTO SIMPLES       668\n",
            "76                          XAXIM    FURTO SIMPLES       638\n",
            "48                     NOVO MUNDO    FURTO SIMPLES       636\n",
            "13                     BIGORRILHO    FURTO SIMPLES       618\n",
            "32                     CRISTO REI    FURTO SIMPLES       588\n",
            "62                  SAO FRANCISCO    FURTO SIMPLES       575\n",
            "6                      ALTO DA XV    FURTO SIMPLES       573\n",
            "41            JARDIM DAS AMERICAS    FURTO SIMPLES       550\n",
            "46                         MERCES    FURTO SIMPLES       471\n",
            "29                  CENTRO CIVICO    FURTO SIMPLES       463\n",
            "23               CAMPO DE SANTANA  PERTURBACAO DO        456\n",
            "9                       BACACHERI    FURTO SIMPLES       404\n",
            "34                     FAZENDINHA    FURTO SIMPLES       395\n",
            "58               SANTA FELICIDADE    FURTO SIMPLES       390\n",
            "5                  ALTO DA GLORIA    FURTO SIMPLES       388\n",
            "4                  ALTO BOQUEIRAO    FURTO SIMPLES       383\n",
            "18                         CABRAL    FURTO SIMPLES       376\n",
            "37                         GUAIRA    FURTO SIMPLES       372\n",
            "69                         TARUMA    FURTO SIMPLES       363\n",
            "14                      BOA VISTA    FURTO SIMPLES       363\n",
            "22                 CAMPO COMPRIDO    FURTO SIMPLES       362\n",
            "50                        PAROLIN    FURTO SIMPLES       361\n",
            "43                         JUVEVE    FURTO SIMPLES       339\n",
            "57                  SANTA CANDIDA    FURTO SIMPLES       335\n",
            "10                    BAIRRO ALTO    FURTO SIMPLES       331\n",
            "54                    PRADO VELHO    FURTO SIMPLES       329\n",
            "36                    GUABIROTUBA    FURTO SIMPLES       304\n",
            "47                      MOSSUNGUE    FURTO SIMPLES       292\n",
            "1                       ABRANCHES    FURTO SIMPLES       272\n",
            "51                     PILARZINHO    FURTO SIMPLES       271\n",
            "24                CAPAO DA IMBUIA    FURTO SIMPLES       270\n",
            "3                             AHU    FURTO SIMPLES       241\n",
            "61                       SAO BRAZ    FURTO SIMPLES       239\n",
            "74                    VILA IZABEL    FURTO SIMPLES       239\n",
            "39                     HUGO LANGE    FURTO SIMPLES       230\n",
            "21            CAMPINA DO SIQUEIRA    FURTO SIMPLES       228\n"
          ]
        }
      ]
    },
    {
      "cell_type": "code",
      "source": [
        "# Listar bairros com mais ocorrências de pertubação de sossego\n",
        "df = dt['CTBA_2024'][['Bairro', 'Natureza']]\n",
        "\n",
        "#                                    #conta os campos\n",
        "contagem = df.value_counts(subset=['Bairro', 'Natureza']).reset_index(name='Contagem')\n",
        "\n",
        "#                                                        #seleciona ultimo id\n",
        "principal_crime_bairro = contagem.loc[contagem.groupby('Bairro')['Contagem'].idxmax()].reset_index(drop=True)\n",
        "\n",
        "# filtro das ocorrencias especificas do ultimo id selecionado\n",
        "filtro = principal_crime_bairro[principal_crime_bairro['Natureza'] == 'PERTURBACAO DO TRABALHO OU SOSSEGO ALHEIO']\n",
        "\n",
        "# Limita a coluna Natureza a 15 caracteres\n",
        "filtro['Natureza'] = filtro['Natureza'].str.slice(0, 15)\n",
        "\n",
        "# Ordenar por ordem descrecente\n",
        "ranking = filtro.sort_values(by='Contagem', ascending=False)\n",
        "\n",
        "print(ranking)\n"
      ],
      "metadata": {
        "id": "iSL1PXL1hlcQ",
        "outputId": "37445041-4681-4621-b806-540af1aea5e8",
        "colab": {
          "base_uri": "https://localhost:8080/"
        }
      },
      "execution_count": null,
      "outputs": [
        {
          "output_type": "stream",
          "name": "stdout",
          "text": [
            "              Bairro         Natureza  Contagem\n",
            "67     SITIO CERCADO  PERTURBACAO DO       1195\n",
            "70         TATUQUARA  PERTURBACAO DO        900\n",
            "23  CAMPO DE SANTANA  PERTURBACAO DO        456\n",
            "35         GANCHINHO  PERTURBACAO DO        220\n",
            "27           CAXIMBA  PERTURBACAO DO         52\n",
            "8            AUGUSTA  PERTURBACAO DO         33\n",
            "65        SAO MIGUEL  PERTURBACAO DO         17\n"
          ]
        },
        {
          "output_type": "stream",
          "name": "stderr",
          "text": [
            "/tmp/ipython-input-2109762824.py:14: SettingWithCopyWarning: \n",
            "A value is trying to be set on a copy of a slice from a DataFrame.\n",
            "Try using .loc[row_indexer,col_indexer] = value instead\n",
            "\n",
            "See the caveats in the documentation: https://pandas.pydata.org/pandas-docs/stable/user_guide/indexing.html#returning-a-view-versus-a-copy\n",
            "  filtro['Natureza'] = filtro['Natureza'].str.slice(0, 15)\n"
          ]
        }
      ]
    },
    {
      "cell_type": "code",
      "source": [],
      "metadata": {
        "id": "06EER4PVrjwW"
      },
      "execution_count": null,
      "outputs": []
    }
  ]
}